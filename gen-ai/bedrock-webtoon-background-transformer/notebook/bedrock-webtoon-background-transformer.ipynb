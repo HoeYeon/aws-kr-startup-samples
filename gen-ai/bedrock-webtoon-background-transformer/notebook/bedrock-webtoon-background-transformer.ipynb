{
 "cells": [
  {
   "cell_type": "markdown",
   "metadata": {},
   "source": [
    "## Webtoon Background Transformation Guide: Using SDXL Image to Image\n",
    "When creating webtoons, you often need various moods (weather, time of day, etc.) for the same location. Using SDXL Image to Image feature, you can create desired variations based on existing webtoon backgrounds. This notebook demonstrates loading a base image and transforming it into different moods.\n",
    "\n",
    "### 1. Environment Setup\n",
    "Import required libraries and configure Amazon Bedrock client."
   ]
  },
  {
   "cell_type": "code",
   "execution_count": null,
   "metadata": {},
   "outputs": [],
   "source": [
    "import base64\n",
    "import io\n",
    "import json\n",
    "import os\n",
    "from PIL import Image\n",
    "import boto3\n",
    "\n",
    "# Configure Amazon Bedrock client\n",
    "bedrock_client = boto3.client('bedrock-runtime')"
   ]
  },
  {
   "cell_type": "markdown",
   "metadata": {},
   "source": [
    "### 2. Base64 Image Conversion Implementation\n",
    "Utility function to convert images to base64 format."
   ]
  },
  {
   "cell_type": "code",
   "execution_count": null,
   "metadata": {},
   "outputs": [],
   "source": [
    "def image_to_base64(img) -> str:\n",
    "    \"\"\"Convert local image file path to a base64 string for Amazon Bedrock\"\"\"\n",
    "    if isinstance(img, str):\n",
    "        if os.path.isfile(img):\n",
    "            print(f\"Reading image from file: {img}\")\n",
    "            with open(img, \"rb\") as f:\n",
    "                return base64.b64encode(f.read()).decode(\"utf-8\")\n",
    "        else:\n",
    "            raise FileNotFoundError(f\"File {img} does not exist\")\n",
    "    else:\n",
    "        raise ValueError(f\"Expected str (filename). Got {type(img)}\")"
   ]
  },
  {
   "cell_type": "markdown",
   "metadata": {},
   "source": [
    "### 3. Loading Base Webtoon Image\n",
    "Load the base image from local storage."
   ]
  },
  {
   "cell_type": "code",
   "execution_count": null,
   "metadata": {},
   "outputs": [],
   "source": [
    "base_image_path = \"data/base_img.png\"\n",
    "base_image_b64 = image_to_base64(base_image_path)"
   ]
  },
  {
   "cell_type": "markdown",
   "metadata": {},
   "source": [
    "Let's see the base image. The example image shows a school building in clear weather in animation/webtoon style."
   ]
  },
  {
   "cell_type": "code",
   "execution_count": null,
   "metadata": {},
   "outputs": [],
   "source": [
    "base_image = Image.open(base_image_path)\n",
    "base_image"
   ]
  },
  {
   "cell_type": "markdown",
   "metadata": {},
   "source": [
    "### 4. Writing Transformation Prompts\n",
    "Write prompts for weather transformation. This example changes the scene to rainy weather. Feel free to customize the prompts for different moods: sunny day, snowy night, foggy morning, or any atmosphere you want to create."
   ]
  },
  {
   "cell_type": "code",
   "execution_count": null,
   "metadata": {},
   "outputs": [],
   "source": [
    "prompt = \"add rain effects, dark clouds, wet surfaces with reflections, school building in rain, puddles in school yard reflecting lights, rainy atmosphere, maintain webtoon style and clear lines\"\n",
    "\n",
    "negative_prompts = [\n",
    "    \"sunny\", \n",
    "    \"clear sky\", \n",
    "    \"blur\", \n",
    "    \"low quality\",\n",
    "    \"people\",\n",
    "    \"distorted architecture\",\n",
    "    \"photorealistic\"\n",
    "]"
   ]
  },
  {
   "cell_type": "markdown",
   "metadata": {},
   "source": [
    "### 5. Generate Image\n",
    "Generate a transformed image with different atmosphere using SDXL model. you can refer to the [SDXL API docs](https://platform.stability.ai/docs/api-reference#tag/SDXL-1.0-and-SD1.6/operation/imageToImage) for more tips on how to use the different parameters:"
   ]
  },
  {
   "cell_type": "code",
   "execution_count": null,
   "metadata": {},
   "outputs": [],
   "source": [
    "request = json.dumps({\n",
    "    \"text_prompts\": (\n",
    "        [{\"text\": prompt, \"weight\": 1.0}]\n",
    "        + [{\"text\": negprompt, \"weight\": -1.0} for negprompt in negative_prompts]\n",
    "    ),\n",
    "    \"cfg_scale\": 8,\n",
    "    \"init_image\": base_image_b64,\n",
    "    \"seed\": 321,\n",
    "    \"start_schedule\": 0.7,\n",
    "    \"steps\": 50,\n",
    "    \"style_preset\": \"anime\",\n",
    "    \"clip_guidance_preset\": \"FAST_BLUE\",\n",
    "    \"sampler\": \"K_DPMPP_2M\"\n",
    "})\n",
    "\n",
    "modelId = \"stability.stable-diffusion-xl-v1\"\n",
    "response = bedrock_client.invoke_model(body=request, modelId=modelId)\n",
    "response_body = json.loads(response.get(\"body\").read())"
   ]
  },
  {
   "cell_type": "code",
   "execution_count": null,
   "metadata": {},
   "outputs": [],
   "source": [
    "# Display result image\n",
    "variant_image_b64 = response_body[\"artifacts\"][0].get(\"base64\")\n",
    "variant_image = Image.open(io.BytesIO(base64.decodebytes(bytes(variant_image_b64, \"utf-8\"))))\n",
    "variant_image"
   ]
  }
 ],
 "metadata": {
  "language_info": {
   "name": "python"
  }
 },
 "nbformat": 4,
 "nbformat_minor": 2
}
