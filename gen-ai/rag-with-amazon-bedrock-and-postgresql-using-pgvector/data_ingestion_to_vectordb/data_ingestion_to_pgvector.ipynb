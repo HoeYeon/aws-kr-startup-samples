{
 "cells": [
  {
   "cell_type": "markdown",
   "id": "cc4ed4d8-6dd1-4422-9f17-99259212fbf1",
   "metadata": {},
   "source": [
    "# Ingest data to a Vector DB (Amazon Aurora Postgresql with pgvector)\n",
    "**_Use of Amazon Aurora PostgreSQL with pgvector as a vector database to store embeddings_**\n",
    "\n",
    "This notebook works well with the `Data Science 2.0` kernel on a SageMaker Studio `ml.t3.medium` instance.\n",
    "\n",
    "Here is a list of packages that are used in this notebook.\n",
    "```\n",
    "!pip freeze | grep -E -w \"ipython-sql|langchain|pgvector|psycopg2|pypdf|SQLAlchemy\"\n",
    "-----------------------------------------------------------------------------------\n",
    "ipython-sql==0.5.0\n",
    "langchain==0.2.5\n",
    "langchain-aws==0.1.6\n",
    "langchain-community==0.2.4\n",
    "langchain-core==0.2.7\n",
    "langchain-text-splitters==0.2.1\n",
    "pgvector==0.2.5\n",
    "psycopg2-binary==2.9.6\n",
    "pypdf==4.2.0\n",
    "SQLAlchemy==2.0.28\n",
    "```"
   ]
  },
  {
   "cell_type": "markdown",
   "id": "066f83f2-7eeb-486d-88a9-6d6e0ffa50ed",
   "metadata": {},
   "source": [
    "## Step 1: Set up\n",
    "Install the required packages"
   ]
  },
  {
   "cell_type": "code",
   "execution_count": null,
   "id": "d0a7c1b2",
   "metadata": {
    "collapsed": true,
    "jupyter": {
     "outputs_hidden": true
    },
    "tags": []
   },
   "outputs": [],
   "source": [
    "!pip install -U langchain==0.2.5\n",
    "!pip install -U langchain-aws==0.1.6\n",
    "!pip install -U langchain-community==0.2.4\n",
    "!pip install -U SQLAlchemy==2.0.28\n",
    "!pip install -U pgvector==0.2.5\n",
    "!pip install -U psycopg2-binary==2.9.6\n",
    "!pip install -U pypdf==4.2.0\n",
    "!pip install -U ipython-sql==0.5.0"
   ]
  },
  {
   "cell_type": "code",
   "execution_count": null,
   "id": "51671f14-f746-474c-af39-76238b570152",
   "metadata": {
    "tags": []
   },
   "outputs": [],
   "source": [
    "!pip list | grep -E -w \"ipython-sql|langchain|pgvector|psycopg2|pypdf\""
   ]
  },
  {
   "cell_type": "markdown",
   "id": "8da3c829-43a9-45ee-8d44-d50ddbd5a93b",
   "metadata": {},
   "source": [
    "## Step 2: Download the data from the web\n",
    "\n",
    "In this step we use `wget` to download the pdf version of Amazon Aurora User Guide.\n",
    "\n",
    "**This data download would take a few minutes**."
   ]
  },
  {
   "cell_type": "code",
   "execution_count": null,
   "id": "a58a6013-7b8b-409f-91c2-9dbcb98abeee",
   "metadata": {
    "collapsed": true,
    "jupyter": {
     "outputs_hidden": true
    },
    "tags": []
   },
   "outputs": [],
   "source": [
    "%%sh\n",
    "mkdir -p data\n",
    "wget -O data/aurora-ug.pdf https://docs.aws.amazon.com/pdfs/AmazonRDS/latest/AuroraUserGuide/aurora-ug.pdf"
   ]
  },
  {
   "cell_type": "markdown",
   "id": "2eb04316-214e-4b9c-9cf1-f364ad5474f6",
   "metadata": {
    "tags": []
   },
   "source": [
    "## Step 3: Load data into Amazon Aurora PostgreSQL using pgvector"
   ]
  },
  {
   "cell_type": "code",
   "execution_count": null,
   "id": "4ef0be97-8832-4920-b62e-888f72f46d09",
   "metadata": {
    "tags": []
   },
   "outputs": [],
   "source": [
    "import boto3\n",
    "\n",
    "aws_region = boto3.Session().region_name"
   ]
  },
  {
   "cell_type": "code",
   "execution_count": null,
   "id": "1059eaf1-dcff-4507-ae5a-c6f9451c3c26",
   "metadata": {
    "tags": []
   },
   "outputs": [],
   "source": [
    "import json\n",
    "from typing import List\n",
    "\n",
    "def get_cfn_outputs(stackname: str, region_name: str) -> List:\n",
    "    cfn = boto3.client('cloudformation', region_name=region_name)\n",
    "    outputs = {}\n",
    "    for output in cfn.describe_stacks(StackName=stackname)['Stacks'][0]['Outputs']:\n",
    "        outputs[output['OutputKey']] = output['OutputValue']\n",
    "    return outputs\n",
    "\n",
    "def get_secret_name(stack_name: str, region_name: str = 'us-east-1'):\n",
    "    cf_client = boto3.client('cloudformation', region_name=region_name)\n",
    "    response = cf_client.describe_stacks(StackName=stack_name)\n",
    "    outputs = response[\"Stacks\"][0][\"Outputs\"]\n",
    "\n",
    "    secrets = [e for e in outputs if e['ExportName'] == 'VectorDBSecret'][0]\n",
    "    secret_name = secrets['OutputValue']\n",
    "    return secret_name\n",
    "\n",
    "def get_secret(secret_name: str, region_name: str = 'us-east-1'):\n",
    "    client = boto3.client('secretsmanager', region_name=region_name)\n",
    "    get_secret_value_response = client.get_secret_value(SecretId=secret_name)\n",
    "    secret = get_secret_value_response['SecretString']\n",
    "\n",
    "    return json.loads(secret)\n",
    "\n",
    "def get_credentials(secret_id: str, region_name: str) -> str:\n",
    "    client = boto3.client('secretsmanager', region_name=region_name)\n",
    "    response = client.get_secret_value(SecretId=secret_id)\n",
    "    secrets_value = json.loads(response['SecretString'])\n",
    "    return secrets_value"
   ]
  },
  {
   "cell_type": "code",
   "execution_count": null,
   "id": "4981fbb4-c405-47e0-ae7a-37e86c33d855",
   "metadata": {
    "tags": []
   },
   "outputs": [],
   "source": [
    "import urllib\n",
    "\n",
    "CFN_STACK_NAME = \"RAGPgVectorStack\" # name of CloudFormation stack\n",
    "\n",
    "secret_name = get_secret_name(CFN_STACK_NAME)\n",
    "secret = get_secret(secret_name)\n",
    "\n",
    "db_username = secret['username']\n",
    "db_password = urllib.parse.quote_plus(secret['password'])\n",
    "db_port = secret['port']\n",
    "db_host = secret['host']\n",
    "\n",
    "driver = 'psycopg2'\n",
    "\n",
    "connection_string = f\"postgresql+{driver}://{db_username}:{db_password}@{db_host}:{db_port}/\""
   ]
  },
  {
   "cell_type": "code",
   "execution_count": null,
   "id": "2dd549f5-7d21-4fb8-b816-92fea4886cea",
   "metadata": {
    "tags": []
   },
   "outputs": [],
   "source": [
    "%load_ext sql"
   ]
  },
  {
   "cell_type": "code",
   "execution_count": null,
   "id": "c39ef8ff-faed-46ef-a751-f8918e3851a6",
   "metadata": {
    "tags": []
   },
   "outputs": [],
   "source": [
    "%sql $connection_string"
   ]
  },
  {
   "cell_type": "code",
   "execution_count": null,
   "id": "8da7fa6d-c36a-41c5-8101-d290325c21fc",
   "metadata": {
    "tags": []
   },
   "outputs": [],
   "source": [
    "%%sql\n",
    "\n",
    "CREATE EXTENSION IF NOT EXISTS vector;"
   ]
  },
  {
   "cell_type": "code",
   "execution_count": null,
   "id": "8c09d832-9eee-4dc3-96cf-f49a5894cb0f",
   "metadata": {
    "tags": []
   },
   "outputs": [],
   "source": [
    "%%sql\n",
    "\n",
    "SELECT typname\n",
    "FROM pg_type\n",
    "WHERE typname = 'vector';"
   ]
  },
  {
   "cell_type": "markdown",
   "id": "63ea82de-a1e4-40a0-9875-86e4f77c86f8",
   "metadata": {},
   "source": [
    "##### Load the embeddings into Aurora PostgreSQL DB cluster"
   ]
  },
  {
   "cell_type": "code",
   "execution_count": null,
   "id": "fdd0d744-07dc-42d0-954e-cd8de7b4e74b",
   "metadata": {
    "tags": []
   },
   "outputs": [],
   "source": [
    "from langchain_community.document_loaders.pdf import PyPDFLoader\n",
    "from langchain_text_splitters.character import RecursiveCharacterTextSplitter"
   ]
  },
  {
   "cell_type": "code",
   "execution_count": null,
   "id": "d39db9b7-5d5c-4cfe-b2f1-5a7ce3bc5f55",
   "metadata": {
    "tags": []
   },
   "outputs": [],
   "source": [
    "pdf_path = './data/aurora-ug.pdf'\n",
    "\n",
    "loader = PyPDFLoader(file_path=pdf_path)\n",
    "\n",
    "text_splitter = RecursiveCharacterTextSplitter(\n",
    "    separators=[\"\\n\\n\", \"\\n\", \".\", \" \"],\n",
    "    chunk_size=1000,\n",
    "    chunk_overlap=100\n",
    ")"
   ]
  },
  {
   "cell_type": "code",
   "execution_count": null,
   "id": "fc20b40a-e368-4135-94bf-02667d75d30e",
   "metadata": {
    "tags": []
   },
   "outputs": [
    {
     "name": "stdout",
     "output_type": "stream",
     "text": [
      "CPU times: user 3min 50s, sys: 778 ms, total: 3min 51s\n",
      "Wall time: 4min 40s\n"
     ]
    }
   ],
   "source": [
    "%%time\n",
    "chunks = loader.load_and_split(text_splitter)"
   ]
  },
  {
   "cell_type": "code",
   "execution_count": null,
   "id": "ce15007c-1032-4495-a3bb-cf105822e212",
   "metadata": {
    "tags": []
   },
   "outputs": [],
   "source": [
    "from langchain_community.embeddings import BedrockEmbeddings\n",
    "\n",
    "embeddings = BedrockEmbeddings(\n",
    "    model_id='amazon.titan-embed-text-v1',\n",
    "    region_name=aws_region\n",
    ")"
   ]
  },
  {
   "cell_type": "code",
   "execution_count": null,
   "id": "0256ddcb-46aa-4d65-913e-8d449f666a6a",
   "metadata": {
    "tags": []
   },
   "outputs": [],
   "source": [
    "import numpy as np\n",
    "\n",
    "\n",
    "max_docs_per_put = 10\n",
    "num_shards = (len(chunks) // max_docs_per_put) + 1\n",
    "shards = np.array_split(chunks, num_shards)"
   ]
  },
  {
   "cell_type": "code",
   "execution_count": null,
   "id": "073aaca3-c622-43c2-a98a-68149f4a821f",
   "metadata": {
    "tags": []
   },
   "outputs": [],
   "source": [
    "from langchain_community.vectorstores import PGVector\n",
    "\n",
    "\n",
    "collection_name = 'llm_rag_embeddings'\n",
    "\n",
    "vectordb = PGVector.from_existing_index(\n",
    "    embedding=embeddings,\n",
    "    collection_name=collection_name,\n",
    "    connection_string=connection_string)"
   ]
  },
  {
   "cell_type": "code",
   "execution_count": null,
   "id": "4767113e-31a9-4939-8225-e94211074977",
   "metadata": {
    "tags": []
   },
   "outputs": [
    {
     "name": "stdout",
     "output_type": "stream",
     "text": [
      "CPU times: user 44.7 ms, sys: 10 ms, total: 54.8 ms\n",
      "Wall time: 3.48 s\n"
     ]
    }
   ],
   "source": [
    "%%time\n",
    "\n",
    "vectordb.add_documents(documents=shards[0])"
   ]
  },
  {
   "cell_type": "code",
   "execution_count": null,
   "id": "7af3bd5b-deb2-48b4-9a66-3a523553a0b9",
   "metadata": {
    "tags": []
   },
   "outputs": [
    {
     "name": "stdout",
     "output_type": "stream",
     "text": [
      "CPU times: user 31.8 s, sys: 1.54 s, total: 33.3 s\n",
      "Wall time: 27min 15s\n"
     ]
    }
   ],
   "source": [
    "%%time\n",
    "import time\n",
    "\n",
    "\n",
    "for shard in shards[1:]:\n",
    "    vectordb.add_documents(documents=shard)\n",
    "    time.sleep(0.3)"
   ]
  },
  {
   "cell_type": "markdown",
   "id": "08266e3e-f547-40ed-8050-c4a33fd8bd5f",
   "metadata": {},
   "source": [
    "## Step 4: Do a similarity search for user input to documents (embeddings) in Amazon Aurora PostgreSQL using Pgvector"
   ]
  },
  {
   "cell_type": "code",
   "execution_count": null,
   "id": "4dd95967-938c-4e19-895d-140bf0dbb63b",
   "metadata": {
    "tags": []
   },
   "outputs": [
    {
     "name": "stdout",
     "output_type": "stream",
     "text": [
      "CPU times: user 13.4 ms, sys: 372 µs, total: 13.8 ms\n",
      "Wall time: 314 ms\n"
     ]
    },
    {
     "data": {
      "text/plain": [
       "[Document(page_content=\"SageMaker each support diﬀerent machine learning use cases. Amazon Comprehend is a natural \\nlanguage processing  (NLP) service that's used to extract insights from documents. By using Aurora \\nmachine learning with Amazon Comprehend, you can determine the sentiment of text in your \\ndatabase tables. SageMaker is a full-featured machine learning  service. Data scientists use Amazon \\nSageMaker to build, train, and test machine learning models for a variety of inference tasks, such \\nAurora machine learning 71\", metadata={'source': './data/aurora-ug.pdf', 'page': 102}),\n",
       " Document(page_content='•Using Machine Learning\\nLearn about Aurora Machine Learning.\\nTutorials and sample code in GitHub\\nThe following tutorials and sample code in GitHub show you how to perform common tasks with\\nAmazon Aurora:\\n•Creating an Aurora Serverless v2 lending library\\nTutorials and sample code in GitHub 274', metadata={'source': './data/aurora-ug.pdf', 'page': 305}),\n",
       " Document(page_content=\"Amazon Comprehend is a managed natural language processing (NLP) service that's used to \\nextract insights from documents. With Amazon Comprehend, you can deduce sentiment based \\non the content of documents, by analyzing entities, key phrases, language, and other features. \\nTo learn more, see What is Amazon Comprehend? in the Amazon Comprehend Developer Guide .\\nSageMaker\\nAmazon SageMaker is a fully managed machine learning service. Data scientists and developers \\nuse Amazon SageMaker to build, train, and test machine learning models for a variety of \\ninference tasks, such as fraud detection and product recommendation. When a machine \\nlearning model is ready for use in production, it can be deployed to the Amazon SageMaker \\nhosted environment. For more information, see What Is Amazon SageMaker? in the Amazon \\nSageMaker Developer Guide .\\nUsing Amazon Comprehend with your Aurora DB cluster has less preliminary setup than using\", metadata={'source': './data/aurora-ug.pdf', 'page': 3390}),\n",
       " Document(page_content='model_id    := \\'anthropic.claude-v2\\', \\n    content_type:= \\'application/json\\', \\n    accept_type := \\'application/json\\', \\n    model_input := \\'{\"prompt\": \"\\\\n\\\\nHuman: You are a helpful assistant that answers \\n questions directly and only using the information provided in the context below.\\n\\\\nDescribe the answer  \\n    in detail.\\\\n\\\\nContext: %s \\\\n\\\\nQuestion: %s \\\\n\\n\\\\nAssistant:\",\"max_tokens_to_sample\":4096,\"temperature\":0.5,\"top_k\":250,\"top_p\":0.5,\"stop_sequences\":\\n[]}\\'\\n);\\naws_bedrock.invoke_model_get_embeddings\\nThe model output can point to vector embeddings for some cases. Given the response varies \\nper model, another function invoke_model_get_embeddings can be leveraged which works \\nexactly like invoke_model but outputs the embeddings by specifying the appropriate json-key.\\nUsing Amazon Bedrock with your Aurora PostgreSQL DB cluster 3405', metadata={'source': './data/aurora-ug.pdf', 'page': 3436})]"
      ]
     },
     "execution_count": 27,
     "metadata": {},
     "output_type": "execute_result"
    }
   ],
   "source": [
    "%%time\n",
    "\n",
    "query = \"What is the company's strategy for generative AI?\"\n",
    "\n",
    "results = vectordb.similarity_search(query)\n",
    "results"
   ]
  },
  {
   "cell_type": "markdown",
   "id": "e1f7ed2a",
   "metadata": {},
   "source": [
    "## Clean up\n",
    "\n",
    "To avoid incurring future charges, delete the resources. You can do this by deleting the CloudFormation template used to create the IAM role and SageMaker notebook."
   ]
  },
  {
   "cell_type": "markdown",
   "id": "27ce355c",
   "metadata": {},
   "source": [
    "## Conclusion\n",
    "\n",
    "In this notebook we were able to see how to use Amazon Bedrock to generate embeddings and then ingest those embeddings into Amazon Aurora Postgresql using pgvector and finally do a similarity search for user input to the documents (embeddings) stored in the Amazon Aurora Postgresql. We used langchain as an abstraction layer to talk to both Amazon Bedrock as well as Amazon Aurora Postgresql."
   ]
  }
 ],
 "metadata": {
  "availableInstances": [
   {
    "_defaultOrder": 0,
    "_isFastLaunch": true,
    "category": "General purpose",
    "gpuNum": 0,
    "hideHardwareSpecs": false,
    "memoryGiB": 4,
    "name": "ml.t3.medium",
    "vcpuNum": 2
   },
   {
    "_defaultOrder": 1,
    "_isFastLaunch": false,
    "category": "General purpose",
    "gpuNum": 0,
    "hideHardwareSpecs": false,
    "memoryGiB": 8,
    "name": "ml.t3.large",
    "vcpuNum": 2
   },
   {
    "_defaultOrder": 2,
    "_isFastLaunch": false,
    "category": "General purpose",
    "gpuNum": 0,
    "hideHardwareSpecs": false,
    "memoryGiB": 16,
    "name": "ml.t3.xlarge",
    "vcpuNum": 4
   },
   {
    "_defaultOrder": 3,
    "_isFastLaunch": false,
    "category": "General purpose",
    "gpuNum": 0,
    "hideHardwareSpecs": false,
    "memoryGiB": 32,
    "name": "ml.t3.2xlarge",
    "vcpuNum": 8
   },
   {
    "_defaultOrder": 4,
    "_isFastLaunch": true,
    "category": "General purpose",
    "gpuNum": 0,
    "hideHardwareSpecs": false,
    "memoryGiB": 8,
    "name": "ml.m5.large",
    "vcpuNum": 2
   },
   {
    "_defaultOrder": 5,
    "_isFastLaunch": false,
    "category": "General purpose",
    "gpuNum": 0,
    "hideHardwareSpecs": false,
    "memoryGiB": 16,
    "name": "ml.m5.xlarge",
    "vcpuNum": 4
   },
   {
    "_defaultOrder": 6,
    "_isFastLaunch": false,
    "category": "General purpose",
    "gpuNum": 0,
    "hideHardwareSpecs": false,
    "memoryGiB": 32,
    "name": "ml.m5.2xlarge",
    "vcpuNum": 8
   },
   {
    "_defaultOrder": 7,
    "_isFastLaunch": false,
    "category": "General purpose",
    "gpuNum": 0,
    "hideHardwareSpecs": false,
    "memoryGiB": 64,
    "name": "ml.m5.4xlarge",
    "vcpuNum": 16
   },
   {
    "_defaultOrder": 8,
    "_isFastLaunch": false,
    "category": "General purpose",
    "gpuNum": 0,
    "hideHardwareSpecs": false,
    "memoryGiB": 128,
    "name": "ml.m5.8xlarge",
    "vcpuNum": 32
   },
   {
    "_defaultOrder": 9,
    "_isFastLaunch": false,
    "category": "General purpose",
    "gpuNum": 0,
    "hideHardwareSpecs": false,
    "memoryGiB": 192,
    "name": "ml.m5.12xlarge",
    "vcpuNum": 48
   },
   {
    "_defaultOrder": 10,
    "_isFastLaunch": false,
    "category": "General purpose",
    "gpuNum": 0,
    "hideHardwareSpecs": false,
    "memoryGiB": 256,
    "name": "ml.m5.16xlarge",
    "vcpuNum": 64
   },
   {
    "_defaultOrder": 11,
    "_isFastLaunch": false,
    "category": "General purpose",
    "gpuNum": 0,
    "hideHardwareSpecs": false,
    "memoryGiB": 384,
    "name": "ml.m5.24xlarge",
    "vcpuNum": 96
   },
   {
    "_defaultOrder": 12,
    "_isFastLaunch": false,
    "category": "General purpose",
    "gpuNum": 0,
    "hideHardwareSpecs": false,
    "memoryGiB": 8,
    "name": "ml.m5d.large",
    "vcpuNum": 2
   },
   {
    "_defaultOrder": 13,
    "_isFastLaunch": false,
    "category": "General purpose",
    "gpuNum": 0,
    "hideHardwareSpecs": false,
    "memoryGiB": 16,
    "name": "ml.m5d.xlarge",
    "vcpuNum": 4
   },
   {
    "_defaultOrder": 14,
    "_isFastLaunch": false,
    "category": "General purpose",
    "gpuNum": 0,
    "hideHardwareSpecs": false,
    "memoryGiB": 32,
    "name": "ml.m5d.2xlarge",
    "vcpuNum": 8
   },
   {
    "_defaultOrder": 15,
    "_isFastLaunch": false,
    "category": "General purpose",
    "gpuNum": 0,
    "hideHardwareSpecs": false,
    "memoryGiB": 64,
    "name": "ml.m5d.4xlarge",
    "vcpuNum": 16
   },
   {
    "_defaultOrder": 16,
    "_isFastLaunch": false,
    "category": "General purpose",
    "gpuNum": 0,
    "hideHardwareSpecs": false,
    "memoryGiB": 128,
    "name": "ml.m5d.8xlarge",
    "vcpuNum": 32
   },
   {
    "_defaultOrder": 17,
    "_isFastLaunch": false,
    "category": "General purpose",
    "gpuNum": 0,
    "hideHardwareSpecs": false,
    "memoryGiB": 192,
    "name": "ml.m5d.12xlarge",
    "vcpuNum": 48
   },
   {
    "_defaultOrder": 18,
    "_isFastLaunch": false,
    "category": "General purpose",
    "gpuNum": 0,
    "hideHardwareSpecs": false,
    "memoryGiB": 256,
    "name": "ml.m5d.16xlarge",
    "vcpuNum": 64
   },
   {
    "_defaultOrder": 19,
    "_isFastLaunch": false,
    "category": "General purpose",
    "gpuNum": 0,
    "hideHardwareSpecs": false,
    "memoryGiB": 384,
    "name": "ml.m5d.24xlarge",
    "vcpuNum": 96
   },
   {
    "_defaultOrder": 20,
    "_isFastLaunch": false,
    "category": "General purpose",
    "gpuNum": 0,
    "hideHardwareSpecs": true,
    "memoryGiB": 0,
    "name": "ml.geospatial.interactive",
    "supportedImageNames": [
     "sagemaker-geospatial-v1-0"
    ],
    "vcpuNum": 0
   },
   {
    "_defaultOrder": 21,
    "_isFastLaunch": true,
    "category": "Compute optimized",
    "gpuNum": 0,
    "hideHardwareSpecs": false,
    "memoryGiB": 4,
    "name": "ml.c5.large",
    "vcpuNum": 2
   },
   {
    "_defaultOrder": 22,
    "_isFastLaunch": false,
    "category": "Compute optimized",
    "gpuNum": 0,
    "hideHardwareSpecs": false,
    "memoryGiB": 8,
    "name": "ml.c5.xlarge",
    "vcpuNum": 4
   },
   {
    "_defaultOrder": 23,
    "_isFastLaunch": false,
    "category": "Compute optimized",
    "gpuNum": 0,
    "hideHardwareSpecs": false,
    "memoryGiB": 16,
    "name": "ml.c5.2xlarge",
    "vcpuNum": 8
   },
   {
    "_defaultOrder": 24,
    "_isFastLaunch": false,
    "category": "Compute optimized",
    "gpuNum": 0,
    "hideHardwareSpecs": false,
    "memoryGiB": 32,
    "name": "ml.c5.4xlarge",
    "vcpuNum": 16
   },
   {
    "_defaultOrder": 25,
    "_isFastLaunch": false,
    "category": "Compute optimized",
    "gpuNum": 0,
    "hideHardwareSpecs": false,
    "memoryGiB": 72,
    "name": "ml.c5.9xlarge",
    "vcpuNum": 36
   },
   {
    "_defaultOrder": 26,
    "_isFastLaunch": false,
    "category": "Compute optimized",
    "gpuNum": 0,
    "hideHardwareSpecs": false,
    "memoryGiB": 96,
    "name": "ml.c5.12xlarge",
    "vcpuNum": 48
   },
   {
    "_defaultOrder": 27,
    "_isFastLaunch": false,
    "category": "Compute optimized",
    "gpuNum": 0,
    "hideHardwareSpecs": false,
    "memoryGiB": 144,
    "name": "ml.c5.18xlarge",
    "vcpuNum": 72
   },
   {
    "_defaultOrder": 28,
    "_isFastLaunch": false,
    "category": "Compute optimized",
    "gpuNum": 0,
    "hideHardwareSpecs": false,
    "memoryGiB": 192,
    "name": "ml.c5.24xlarge",
    "vcpuNum": 96
   },
   {
    "_defaultOrder": 29,
    "_isFastLaunch": true,
    "category": "Accelerated computing",
    "gpuNum": 1,
    "hideHardwareSpecs": false,
    "memoryGiB": 16,
    "name": "ml.g4dn.xlarge",
    "vcpuNum": 4
   },
   {
    "_defaultOrder": 30,
    "_isFastLaunch": false,
    "category": "Accelerated computing",
    "gpuNum": 1,
    "hideHardwareSpecs": false,
    "memoryGiB": 32,
    "name": "ml.g4dn.2xlarge",
    "vcpuNum": 8
   },
   {
    "_defaultOrder": 31,
    "_isFastLaunch": false,
    "category": "Accelerated computing",
    "gpuNum": 1,
    "hideHardwareSpecs": false,
    "memoryGiB": 64,
    "name": "ml.g4dn.4xlarge",
    "vcpuNum": 16
   },
   {
    "_defaultOrder": 32,
    "_isFastLaunch": false,
    "category": "Accelerated computing",
    "gpuNum": 1,
    "hideHardwareSpecs": false,
    "memoryGiB": 128,
    "name": "ml.g4dn.8xlarge",
    "vcpuNum": 32
   },
   {
    "_defaultOrder": 33,
    "_isFastLaunch": false,
    "category": "Accelerated computing",
    "gpuNum": 4,
    "hideHardwareSpecs": false,
    "memoryGiB": 192,
    "name": "ml.g4dn.12xlarge",
    "vcpuNum": 48
   },
   {
    "_defaultOrder": 34,
    "_isFastLaunch": false,
    "category": "Accelerated computing",
    "gpuNum": 1,
    "hideHardwareSpecs": false,
    "memoryGiB": 256,
    "name": "ml.g4dn.16xlarge",
    "vcpuNum": 64
   },
   {
    "_defaultOrder": 35,
    "_isFastLaunch": false,
    "category": "Accelerated computing",
    "gpuNum": 1,
    "hideHardwareSpecs": false,
    "memoryGiB": 61,
    "name": "ml.p3.2xlarge",
    "vcpuNum": 8
   },
   {
    "_defaultOrder": 36,
    "_isFastLaunch": false,
    "category": "Accelerated computing",
    "gpuNum": 4,
    "hideHardwareSpecs": false,
    "memoryGiB": 244,
    "name": "ml.p3.8xlarge",
    "vcpuNum": 32
   },
   {
    "_defaultOrder": 37,
    "_isFastLaunch": false,
    "category": "Accelerated computing",
    "gpuNum": 8,
    "hideHardwareSpecs": false,
    "memoryGiB": 488,
    "name": "ml.p3.16xlarge",
    "vcpuNum": 64
   },
   {
    "_defaultOrder": 38,
    "_isFastLaunch": false,
    "category": "Accelerated computing",
    "gpuNum": 8,
    "hideHardwareSpecs": false,
    "memoryGiB": 768,
    "name": "ml.p3dn.24xlarge",
    "vcpuNum": 96
   },
   {
    "_defaultOrder": 39,
    "_isFastLaunch": false,
    "category": "Memory Optimized",
    "gpuNum": 0,
    "hideHardwareSpecs": false,
    "memoryGiB": 16,
    "name": "ml.r5.large",
    "vcpuNum": 2
   },
   {
    "_defaultOrder": 40,
    "_isFastLaunch": false,
    "category": "Memory Optimized",
    "gpuNum": 0,
    "hideHardwareSpecs": false,
    "memoryGiB": 32,
    "name": "ml.r5.xlarge",
    "vcpuNum": 4
   },
   {
    "_defaultOrder": 41,
    "_isFastLaunch": false,
    "category": "Memory Optimized",
    "gpuNum": 0,
    "hideHardwareSpecs": false,
    "memoryGiB": 64,
    "name": "ml.r5.2xlarge",
    "vcpuNum": 8
   },
   {
    "_defaultOrder": 42,
    "_isFastLaunch": false,
    "category": "Memory Optimized",
    "gpuNum": 0,
    "hideHardwareSpecs": false,
    "memoryGiB": 128,
    "name": "ml.r5.4xlarge",
    "vcpuNum": 16
   },
   {
    "_defaultOrder": 43,
    "_isFastLaunch": false,
    "category": "Memory Optimized",
    "gpuNum": 0,
    "hideHardwareSpecs": false,
    "memoryGiB": 256,
    "name": "ml.r5.8xlarge",
    "vcpuNum": 32
   },
   {
    "_defaultOrder": 44,
    "_isFastLaunch": false,
    "category": "Memory Optimized",
    "gpuNum": 0,
    "hideHardwareSpecs": false,
    "memoryGiB": 384,
    "name": "ml.r5.12xlarge",
    "vcpuNum": 48
   },
   {
    "_defaultOrder": 45,
    "_isFastLaunch": false,
    "category": "Memory Optimized",
    "gpuNum": 0,
    "hideHardwareSpecs": false,
    "memoryGiB": 512,
    "name": "ml.r5.16xlarge",
    "vcpuNum": 64
   },
   {
    "_defaultOrder": 46,
    "_isFastLaunch": false,
    "category": "Memory Optimized",
    "gpuNum": 0,
    "hideHardwareSpecs": false,
    "memoryGiB": 768,
    "name": "ml.r5.24xlarge",
    "vcpuNum": 96
   },
   {
    "_defaultOrder": 47,
    "_isFastLaunch": false,
    "category": "Accelerated computing",
    "gpuNum": 1,
    "hideHardwareSpecs": false,
    "memoryGiB": 16,
    "name": "ml.g5.xlarge",
    "vcpuNum": 4
   },
   {
    "_defaultOrder": 48,
    "_isFastLaunch": false,
    "category": "Accelerated computing",
    "gpuNum": 1,
    "hideHardwareSpecs": false,
    "memoryGiB": 32,
    "name": "ml.g5.2xlarge",
    "vcpuNum": 8
   },
   {
    "_defaultOrder": 49,
    "_isFastLaunch": false,
    "category": "Accelerated computing",
    "gpuNum": 1,
    "hideHardwareSpecs": false,
    "memoryGiB": 64,
    "name": "ml.g5.4xlarge",
    "vcpuNum": 16
   },
   {
    "_defaultOrder": 50,
    "_isFastLaunch": false,
    "category": "Accelerated computing",
    "gpuNum": 1,
    "hideHardwareSpecs": false,
    "memoryGiB": 128,
    "name": "ml.g5.8xlarge",
    "vcpuNum": 32
   },
   {
    "_defaultOrder": 51,
    "_isFastLaunch": false,
    "category": "Accelerated computing",
    "gpuNum": 1,
    "hideHardwareSpecs": false,
    "memoryGiB": 256,
    "name": "ml.g5.16xlarge",
    "vcpuNum": 64
   },
   {
    "_defaultOrder": 52,
    "_isFastLaunch": false,
    "category": "Accelerated computing",
    "gpuNum": 4,
    "hideHardwareSpecs": false,
    "memoryGiB": 192,
    "name": "ml.g5.12xlarge",
    "vcpuNum": 48
   },
   {
    "_defaultOrder": 53,
    "_isFastLaunch": false,
    "category": "Accelerated computing",
    "gpuNum": 4,
    "hideHardwareSpecs": false,
    "memoryGiB": 384,
    "name": "ml.g5.24xlarge",
    "vcpuNum": 96
   },
   {
    "_defaultOrder": 54,
    "_isFastLaunch": false,
    "category": "Accelerated computing",
    "gpuNum": 8,
    "hideHardwareSpecs": false,
    "memoryGiB": 768,
    "name": "ml.g5.48xlarge",
    "vcpuNum": 192
   },
   {
    "_defaultOrder": 55,
    "_isFastLaunch": false,
    "category": "Accelerated computing",
    "gpuNum": 8,
    "hideHardwareSpecs": false,
    "memoryGiB": 1152,
    "name": "ml.p4d.24xlarge",
    "vcpuNum": 96
   },
   {
    "_defaultOrder": 56,
    "_isFastLaunch": false,
    "category": "Accelerated computing",
    "gpuNum": 8,
    "hideHardwareSpecs": false,
    "memoryGiB": 1152,
    "name": "ml.p4de.24xlarge",
    "vcpuNum": 96
   },
   {
    "_defaultOrder": 57,
    "_isFastLaunch": false,
    "category": "Accelerated computing",
    "gpuNum": 0,
    "hideHardwareSpecs": false,
    "memoryGiB": 32,
    "name": "ml.trn1.2xlarge",
    "vcpuNum": 8
   },
   {
    "_defaultOrder": 58,
    "_isFastLaunch": false,
    "category": "Accelerated computing",
    "gpuNum": 0,
    "hideHardwareSpecs": false,
    "memoryGiB": 512,
    "name": "ml.trn1.32xlarge",
    "vcpuNum": 128
   },
   {
    "_defaultOrder": 59,
    "_isFastLaunch": false,
    "category": "Accelerated computing",
    "gpuNum": 0,
    "hideHardwareSpecs": false,
    "memoryGiB": 512,
    "name": "ml.trn1n.32xlarge",
    "vcpuNum": 128
   }
  ],
  "instance_type": "ml.t3.medium",
  "kernelspec": {
   "display_name": "Python 3 (Data Science 3.0)",
   "language": "python",
   "name": "python3__SAGEMAKER_INTERNAL__arn:aws:sagemaker:us-east-1:123456789012:image/sagemaker-data-science-310-v1"
  },
  "language_info": {
   "codemirror_mode": {
    "name": "ipython",
    "version": 3
   },
   "file_extension": ".py",
   "mimetype": "text/x-python",
   "name": "python",
   "nbconvert_exporter": "python",
   "pygments_lexer": "ipython3",
   "version": "3.10.6"
  }
 },
 "nbformat": 4,
 "nbformat_minor": 5
}
