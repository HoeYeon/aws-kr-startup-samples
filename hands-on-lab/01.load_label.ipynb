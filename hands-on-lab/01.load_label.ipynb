{
 "cells": [
  {
   "cell_type": "markdown",
   "metadata": {},
   "source": [
    "# Load label"
   ]
  },
  {
   "cell_type": "markdown",
   "metadata": {},
   "source": [
    "#### 이번 Lab에서는 Glue Job을 이용해 Database에 접근하고 Read, Write하는 예제를 살펴봅니다."
   ]
  },
  {
   "cell_type": "markdown",
   "metadata": {},
   "source": [
    "#### 1. ACCOUNT_ID와 RDS의 HOST, USER, PASSWD 정보를 입력합니다."
   ]
  },
  {
   "cell_type": "code",
   "execution_count": 6,
   "metadata": {},
   "outputs": [
    {
     "data": {
      "application/vnd.jupyter.widget-view+json": {
       "model_id": "03ebf2bf7da2435697d984fa7688f3ed",
       "version_major": 2,
       "version_minor": 0
      },
      "text/plain": [
       "FloatProgress(value=0.0, bar_style='info', description='Progress:', layout=Layout(height='25px', width='50%'),…"
      ]
     },
     "metadata": {},
     "output_type": "display_data"
    }
   ],
   "source": [
    "ACCOUNT_ID = ''\n",
    "HOST = ''\n",
    "USER = ''\n",
    "PASSWD = ''"
   ]
  },
  {
   "cell_type": "code",
   "execution_count": 7,
   "metadata": {},
   "outputs": [
    {
     "data": {
      "application/vnd.jupyter.widget-view+json": {
       "model_id": "086cff1ec1e4499aa19032df36e332ac",
       "version_major": 2,
       "version_minor": 0
      },
      "text/plain": [
       "FloatProgress(value=0.0, bar_style='info', description='Progress:', layout=Layout(height='25px', width='50%'),…"
      ]
     },
     "metadata": {},
     "output_type": "display_data"
    }
   ],
   "source": [
    "RDS_DATABASE = 'hol'\n",
    "RDS_TABLE = 'label'\n",
    "GLUE_DATABASE = 'analytics_hol_' + ACCOUNT_ID\n",
    "GLUE_TABLE = 's3_label'\n",
    "JDBC_URL = 'jdbc:mysql://{HOST}:3306/{DATABASE}'.format(HOST=HOST, DATABASE=RDS_DATABASE)"
   ]
  },
  {
   "cell_type": "markdown",
   "metadata": {},
   "source": [
    "#### 2. Lab을 진행하기 앞서 필요한 Database와 Table을 생성합니다."
   ]
  },
  {
   "cell_type": "code",
   "execution_count": 8,
   "metadata": {},
   "outputs": [
    {
     "data": {
      "application/vnd.jupyter.widget-view+json": {
       "model_id": "4d2e0a3fc0d54b269d913182df989b65",
       "version_major": 2,
       "version_minor": 0
      },
      "text/plain": [
       "FloatProgress(value=0.0, bar_style='info', description='Progress:', layout=Layout(height='25px', width='50%'),…"
      ]
     },
     "metadata": {},
     "output_type": "display_data"
    },
    {
     "name": "stdout",
     "output_type": "stream",
     "text": [
      "1\n",
      "1\n",
      "0"
     ]
    }
   ],
   "source": [
    "import pymysql\n",
    "\n",
    "conn = pymysql.connect(host=HOST, user=USER, passwd=PASSWD, connect_timeout=5)   \n",
    "\n",
    "try:\n",
    "    with conn.cursor() as cursor:\n",
    "        # drop db\n",
    "        query = 'DROP DATABASE IF EXISTS {DATABASE}'.format(DATABASE=RDS_DATABASE)\n",
    "        cursor.execute(query)\n",
    "        \n",
    "        # create db\n",
    "        query = 'CREATE DATABASE IF NOT EXISTS {DATABASE}'.format(DATABASE=RDS_DATABASE)\n",
    "        cursor.execute(query)\n",
    "        \n",
    "        # create table\n",
    "        query = '''\n",
    "CREATE TABLE IF NOT EXISTS {DATABASE}.{TABLE} (\n",
    "  `passengerid` int(11) NOT NULL,\n",
    "  `label` tinyint(1) DEFAULT NULL\n",
    ") ENGINE=InnoDB DEFAULT CHARSET=utf8 COLLATE=utf8_bin\n",
    "        '''.format(DATABASE=RDS_DATABASE, TABLE=RDS_TABLE)\n",
    "        cursor.execute(query)\n",
    "        conn.commit()\n",
    "except Exception as e:\n",
    "    print('[ERROR]: {}'.format(e))\n",
    "    raise\n",
    "finally:\n",
    "    conn.close()"
   ]
  },
  {
   "cell_type": "markdown",
   "metadata": {},
   "source": [
    "#### 3. JDBC Write"
   ]
  },
  {
   "cell_type": "code",
   "execution_count": 9,
   "metadata": {},
   "outputs": [
    {
     "data": {
      "application/vnd.jupyter.widget-view+json": {
       "model_id": "144d78b46b37479580804dbcf0f14de9",
       "version_major": 2,
       "version_minor": 0
      },
      "text/plain": [
       "FloatProgress(value=0.0, bar_style='info', description='Progress:', layout=Layout(height='25px', width='50%'),…"
      ]
     },
     "metadata": {},
     "output_type": "display_data"
    }
   ],
   "source": [
    "# read from s3\n",
    "s3_bucket = 's3://analytics-hol-' + ACCOUNT_ID\n",
    "label_df = spark.read.csv(s3_bucket + '/label', header=True)\n",
    "\n",
    "# wrtie using jdbc\n",
    "connectionProperties = {    \n",
    "    \"user\" : USER,\n",
    "    \"password\" : PASSWD,\n",
    "    \"driver\" : \"com.mysql.jdbc.Driver\"\n",
    "}\n",
    "\n",
    "label_df.write.jdbc(\n",
    "    url=JDBC_URL, \n",
    "    table=RDS_TABLE, \n",
    "    mode=\"overwrite\", \n",
    "    properties=connectionProperties\n",
    ")"
   ]
  },
  {
   "cell_type": "markdown",
   "metadata": {},
   "source": [
    "#### 4. JDBC Read"
   ]
  },
  {
   "cell_type": "code",
   "execution_count": 10,
   "metadata": {},
   "outputs": [
    {
     "data": {
      "application/vnd.jupyter.widget-view+json": {
       "model_id": "3bb1e767fe82426b8e18f8c53efa6ea2",
       "version_major": 2,
       "version_minor": 0
      },
      "text/plain": [
       "FloatProgress(value=0.0, bar_style='info', description='Progress:', layout=Layout(height='25px', width='50%'),…"
      ]
     },
     "metadata": {},
     "output_type": "display_data"
    },
    {
     "name": "stdout",
     "output_type": "stream",
     "text": [
      "+-----------+-----+\n",
      "|PassengerId|Label|\n",
      "+-----------+-----+\n",
      "|          1|    0|\n",
      "|          2|    1|\n",
      "|          3|    1|\n",
      "|          4|    1|\n",
      "|          5|    0|\n",
      "|          6|    0|\n",
      "|          7|    0|\n",
      "|          8|    0|\n",
      "|          9|    1|\n",
      "|         10|    1|\n",
      "|         11|    1|\n",
      "|         12|    1|\n",
      "|         13|    0|\n",
      "|         14|    0|\n",
      "|         15|    0|\n",
      "|         16|    1|\n",
      "|         17|    0|\n",
      "|         18|    1|\n",
      "|         19|    0|\n",
      "|         20|    1|\n",
      "+-----------+-----+\n",
      "only showing top 20 rows"
     ]
    }
   ],
   "source": [
    "from awsglue.context import GlueContext\n",
    "\n",
    "# JDBC 접속 정보\n",
    "connectionProperties = {\n",
    "    \"user\" : USER,\n",
    "    \"password\" : PASSWD,\n",
    "    \"driver\" : \"com.mysql.jdbc.Driver\",\n",
    "    \"fetchsize\" : \"1000\"\n",
    "}\n",
    "\n",
    "# lowerBound, upperBound, numPartitions은 Partition을 나누는 기준을 정할 때 사용되며 데이터를 읽어오는 범위와는 관계없음\n",
    "label_df = spark.read.jdbc(\n",
    "        url=JDBC_URL,\n",
    "        table=RDS_TABLE,\n",
    "        column=\"passengerid\",\n",
    "        lowerBound=1,\n",
    "        upperBound=1000,\n",
    "        numPartitions=5,\n",
    "        properties=connectionProperties)\n",
    "\n",
    "label_df.show()"
   ]
  },
  {
   "cell_type": "code",
   "execution_count": null,
   "metadata": {},
   "outputs": [],
   "source": []
  }
 ],
 "metadata": {
  "kernelspec": {
   "display_name": "Sparkmagic (PySpark)",
   "language": "",
   "name": "pysparkkernel"
  },
  "language_info": {
   "codemirror_mode": {
    "name": "python",
    "version": 2
   },
   "mimetype": "text/x-python",
   "name": "pyspark",
   "pygments_lexer": "python2"
  }
 },
 "nbformat": 4,
 "nbformat_minor": 4
}
