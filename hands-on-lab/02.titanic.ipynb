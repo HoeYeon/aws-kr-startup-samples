{
 "cells": [
  {
   "cell_type": "markdown",
   "metadata": {},
   "source": [
    "# Titanic: Predict survival on the Titanic with AWS Glue.\n",
    "### 타이타닉 사고에서 어떤 승객이 살아남을 수 있을 지 예측해보세요\n",
    "##### Kaggle은 2010년 설립된 예측모델 및 분석 대회 플랫폼입니다.\n",
    "##### 기업 및 단체에서 데이터와 해결과제를 등록하면, 데이터 과학자들이 이를 해결하는 모델을 개발하고 경쟁하는 곳입니다. \n",
    "##### 이번 Lab에서는 Kaggle에서 입문자용 tutorial로 사용되는 titanic competition을 Glue와 Spark ML을 사용해서 데이터 분석, ETL, ML을 사용한 Prediction까지 실습해보도록 하겠습니다.\n",
    "\n",
    "![titanic_sinking](../images/titanic_sinking.jpg)"
   ]
  },
  {
   "cell_type": "markdown",
   "metadata": {},
   "source": [
    "##### ACCOUNT_ID 정보를 입력합니다."
   ]
  },
  {
   "cell_type": "code",
   "execution_count": 45,
   "metadata": {},
   "outputs": [
    {
     "data": {
      "application/vnd.jupyter.widget-view+json": {
       "model_id": "8a88f0167946477e82274c98bd7e16bf",
       "version_major": 2,
       "version_minor": 0
      },
      "text/plain": [
       "FloatProgress(value=0.0, bar_style='info', description='Progress:', layout=Layout(height='25px', width='50%'),…"
      ]
     },
     "metadata": {},
     "output_type": "display_data"
    }
   ],
   "source": [
    "S3_BUCKET_POSTFIX = '123456789'"
   ]
  },
  {
   "cell_type": "markdown",
   "metadata": {},
   "source": [
    "#### 필요한 라이브러리 Import"
   ]
  },
  {
   "cell_type": "code",
   "execution_count": 46,
   "metadata": {},
   "outputs": [
    {
     "data": {
      "application/vnd.jupyter.widget-view+json": {
       "model_id": "0ac0477efd7843f4af7db1181391fde0",
       "version_major": 2,
       "version_minor": 0
      },
      "text/plain": [
       "FloatProgress(value=0.0, bar_style='info', description='Progress:', layout=Layout(height='25px', width='50%'),…"
      ]
     },
     "metadata": {},
     "output_type": "display_data"
    }
   ],
   "source": [
    "from pyspark.ml import Pipeline\n",
    "from pyspark.sql.functions import mean, col, split, col, regexp_extract, when, lit\n",
    "from pyspark.ml.feature import StringIndexer\n",
    "from pyspark.ml.feature import VectorAssembler\n",
    "from pyspark.ml.evaluation import MulticlassClassificationEvaluator\n",
    "from pyspark.ml.feature import QuantileDiscretizer\n",
    "from sagemaker_pyspark import IAMRole\n",
    "from sagemaker_pyspark.algorithms import XGBoostSageMakerEstimator\n",
    "from sagemaker_pyspark.transformation import serializers"
   ]
  },
  {
   "cell_type": "markdown",
   "metadata": {},
   "source": [
    "### 1. Glue 카탈로그에서 필요한 데이터 준비"
   ]
  },
  {
   "cell_type": "code",
   "execution_count": 47,
   "metadata": {},
   "outputs": [
    {
     "data": {
      "application/vnd.jupyter.widget-view+json": {
       "model_id": "90a65790f9ff46b0a764c32a90e395f0",
       "version_major": 2,
       "version_minor": 0
      },
      "text/plain": [
       "FloatProgress(value=0.0, bar_style='info', description='Progress:', layout=Layout(height='25px', width='50%'),…"
      ]
     },
     "metadata": {},
     "output_type": "display_data"
    },
    {
     "name": "stdout",
     "output_type": "stream",
     "text": [
      "+-----------+------+--------------------+------+----+-----+-----+----------------+-------+-----+--------+\n",
      "|passengerid|pclass|                name|   sex| age|sibsp|parch|          ticket|   fare|cabin|embarked|\n",
      "+-----------+------+--------------------+------+----+-----+-----+----------------+-------+-----+--------+\n",
      "|          1|     3|     Mr. Owen Harris|  male|22.0|    1|    0|       A/5 21171|   7.25|     |       S|\n",
      "|          2|     1|Mrs. John Bradley...|female|38.0|    1|    0|        PC 17599|71.2833|  C85|       C|\n",
      "|          3|     3|         Miss. Laina|female|26.0|    0|    0|STON/O2. 3101282|  7.925|     |       S|\n",
      "|          4|     1|Mrs. Jacques Heat...|female|35.0|    1|    0|          113803|   53.1| C123|       S|\n",
      "|          5|     3|   Mr. William Henry|  male|35.0|    0|    0|          373450|   8.05|     |       S|\n",
      "|          6|     3|           Mr. James|  male|null|    0|    0|          330877| 8.4583|     |       Q|\n",
      "|          7|     1|       Mr. Timothy J|  male|54.0|    0|    0|           17463|51.8625|  E46|       S|\n",
      "|          8|     3|Master. Gosta Leo...|  male| 2.0|    3|    1|          349909| 21.075|     |       S|\n",
      "|          9|     3|Mrs. Oscar W (Eli...|female|27.0|    0|    2|          347742|11.1333|     |       S|\n",
      "|         10|     2|Mrs. Nicholas (Ad...|female|14.0|    1|    0|          237736|30.0708|     |       C|\n",
      "|         11|     3|Miss. Marguerite Rut|female| 4.0|    1|    1|         PP 9549|   16.7|   G6|       S|\n",
      "|         12|     1|     Miss. Elizabeth|female|58.0|    0|    0|          113783|  26.55| C103|       S|\n",
      "|         13|     3|   Mr. William Henry|  male|20.0|    0|    0|       A/5. 2151|   8.05|     |       S|\n",
      "|         14|     3|    Mr. Anders Johan|  male|39.0|    1|    5|          347082| 31.275|     |       S|\n",
      "|         15|     3|Miss. Hulda Amand...|female|14.0|    0|    0|          350406| 7.8542|     |       S|\n",
      "|         16|     2|Mrs. (Mary D King...|female|55.0|    0|    0|          248706|   16.0|     |       S|\n",
      "|         17|     3|      Master. Eugene|  male| 2.0|    4|    1|          382652| 29.125|     |       Q|\n",
      "|         18|     2|  Mr. Charles Eugene|  male|null|    0|    0|          244373|   13.0|     |       S|\n",
      "|         19|     3|Vander Mrs. Juliu...|female|31.0|    1|    0|          345763|   18.0|     |       S|\n",
      "|         20|     3|         Mrs. Fatima|female|null|    0|    0|            2649|  7.225|     |       C|\n",
      "+-----------+------+--------------------+------+----+-----+-----+----------------+-------+-----+--------+\n",
      "only showing top 20 rows"
     ]
    }
   ],
   "source": [
    "from awsglue.context import GlueContext\n",
    " \n",
    "glueContext = GlueContext(sc)\n",
    "features_df = glueContext.create_dynamic_frame.from_catalog(database='analytics_hol',\n",
    "                                                            table_name='hol_features',                           \n",
    "                                                            transformation_ctx='features_df').toDF()\n",
    "features_df.show()"
   ]
  },
  {
   "cell_type": "code",
   "execution_count": 48,
   "metadata": {},
   "outputs": [
    {
     "data": {
      "application/vnd.jupyter.widget-view+json": {
       "model_id": "aca8896428d54f208ce2640f8254158c",
       "version_major": 2,
       "version_minor": 0
      },
      "text/plain": [
       "FloatProgress(value=0.0, bar_style='info', description='Progress:', layout=Layout(height='25px', width='50%'),…"
      ]
     },
     "metadata": {},
     "output_type": "display_data"
    },
    {
     "name": "stdout",
     "output_type": "stream",
     "text": [
      "+-----------+-----+\n",
      "|PassengerId|Label|\n",
      "+-----------+-----+\n",
      "|         20|    1|\n",
      "|         40|    1|\n",
      "|         60|    0|\n",
      "|         80|    1|\n",
      "|        100|    0|\n",
      "|        120|    0|\n",
      "|        140|    0|\n",
      "|        160|    0|\n",
      "|        180|    0|\n",
      "|        200|    0|\n",
      "|        220|    0|\n",
      "|        240|    0|\n",
      "|        260|    1|\n",
      "|        280|    1|\n",
      "|        300|    1|\n",
      "|        320|    1|\n",
      "|        340|    0|\n",
      "|        360|    1|\n",
      "|        380|    0|\n",
      "|        400|    1|\n",
      "+-----------+-----+\n",
      "only showing top 20 rows"
     ]
    }
   ],
   "source": [
    "label_df = glueContext.create_dynamic_frame.from_catalog(database='analytics_hol',\n",
    "                                                         table_name='hol_label',                           \n",
    "                                                         transformation_ctx='label_df').toDF()\n",
    "label_df.show()"
   ]
  },
  {
   "cell_type": "code",
   "execution_count": 49,
   "metadata": {},
   "outputs": [
    {
     "data": {
      "application/vnd.jupyter.widget-view+json": {
       "model_id": "6bbf64b84cbf4eea9ec562bdf949cb1b",
       "version_major": 2,
       "version_minor": 0
      },
      "text/plain": [
       "FloatProgress(value=0.0, bar_style='info', description='Progress:', layout=Layout(height='25px', width='50%'),…"
      ]
     },
     "metadata": {},
     "output_type": "display_data"
    }
   ],
   "source": [
    "from pyspark.sql import functions as F\n",
    "from pyspark.sql.types import IntegerType\n",
    "\n",
    "# lower column name \n",
    "features_df = features_df.select([F.col(x).alias(x.lower()) for x in features_df.columns])\n",
    "label_df = label_df.select([F.col(x).alias(x.lower()) for x in label_df.columns])\n",
    "\n",
    "# string -> int\n",
    "label_df = label_df.withColumn(\"passengerid\", label_df[\"passengerid\"].cast(IntegerType()))\n",
    "label_df = label_df.withColumn(\"label\", label_df[\"label\"].cast(IntegerType()))"
   ]
  },
  {
   "cell_type": "code",
   "execution_count": 50,
   "metadata": {},
   "outputs": [
    {
     "data": {
      "application/vnd.jupyter.widget-view+json": {
       "model_id": "40abe796d01f4275b1dee5a325670c3f",
       "version_major": 2,
       "version_minor": 0
      },
      "text/plain": [
       "FloatProgress(value=0.0, bar_style='info', description='Progress:', layout=Layout(height='25px', width='50%'),…"
      ]
     },
     "metadata": {},
     "output_type": "display_data"
    },
    {
     "name": "stdout",
     "output_type": "stream",
     "text": [
      "+-----------+-----+------+--------------------+------+----+-----+-----+----------------+--------+-----+--------+\n",
      "|passengerid|label|pclass|                name|   sex| age|sibsp|parch|          ticket|    fare|cabin|embarked|\n",
      "+-----------+-----+------+--------------------+------+----+-----+-----+----------------+--------+-----+--------+\n",
      "|         26|    1|     3|Mrs. Carl Oscar (...|female|38.0|    1|    5|          347077| 31.3875|     |       S|\n",
      "|         29|    1|     3|O'Miss. Ellen \"Ne...|female|null|    0|    0|          330959|  7.8792|     |       Q|\n",
      "|        474|    1|     2|Mrs. Amin S (Mari...|female|23.0|    0|    0| SC/AH Basle 541| 13.7917|    D|       C|\n",
      "|         65|    0|     1|        Mr. Albert A|  male|null|    0|    0|        PC 17605| 27.7208|     |       C|\n",
      "|        191|    1|     2|         Mrs. (Rosa)|female|32.0|    0|    0|          234604|    13.0|     |       S|\n",
      "|        418|    1|     2|Miss. Lyyli Karol...|female|18.0|    0|    2|          250652|    13.0|     |       S|\n",
      "|        541|    1|     1|     Miss. Harriet R|female|36.0|    0|    2|       WE/P 5735|    71.0|  B22|       S|\n",
      "|        558|    0|     1|          Mr. Victor|  male|null|    0|    0|        PC 17757| 227.525|     |       C|\n",
      "|        222|    0|     2|         Mr. James H|  male|27.0|    0|    0|          220367|    13.0|     |       S|\n",
      "|        270|    1|     1|        Miss. Amelia|female|35.0|    0|    0|        PC 17760|135.6333|  C99|       S|\n",
      "|        293|    0|     2|    Mr. Rene Jacques|  male|36.0|    0|    0|   SC/Paris 2163|  12.875|    D|       C|\n",
      "|        730|    0|     3|   Miss. Pieta Sofia|female|25.0|    1|    0|STON/O2. 3101271|   7.925|     |       S|\n",
      "|        243|    0|     2|Mr. Reginald Charles|  male|29.0|    0|    0|     W./C. 14263|    10.5|     |       S|\n",
      "|        278|    0|     2| Mr. Francis \"Frank\"|  male|null|    0|    0|          239853|     0.0|     |       S|\n",
      "|        367|    1|     1|Mrs. Frank Manley...|female|60.0|    1|    0|          110813|   75.25|  D37|       C|\n",
      "|        442|    0|     3|            Mr. Leon|  male|20.0|    0|    0|          345769|     9.5|     |       S|\n",
      "|        705|    0|     3|     Mr. Henrik Juul|  male|26.0|    1|    0|          350025|  7.8542|     |       S|\n",
      "|        720|    0|     3| Mr. Malkolm Joackim|  male|33.0|    0|    0|          347062|   7.775|     |       S|\n",
      "|         19|    0|     3|Vander Mrs. Juliu...|female|31.0|    1|    0|          345763|    18.0|     |       S|\n",
      "|         54|    1|     2|Mrs. Lizzie (Eliz...|female|29.0|    1|    0|            2926|    26.0|     |       S|\n",
      "+-----------+-----+------+--------------------+------+----+-----+-----+----------------+--------+-----+--------+\n",
      "only showing top 20 rows"
     ]
    }
   ],
   "source": [
    "titanic_df = label_df.join(features_df, 'passengerid')\n",
    "titanic_df.show()"
   ]
  },
  {
   "cell_type": "markdown",
   "metadata": {},
   "source": [
    "##### passengerid: 승객 id\n",
    "##### label: 생존여부\n",
    "##### pclass: 티켓등급 (1=1st, 2=2nd, 3=3rd)\n",
    "##### name: 이름\n",
    "##### sex: 성별 (0=male, 1=female)\n",
    "##### age: 나이\n",
    "##### sibsp: 함께 탑승한 형제자매, 배우자의 수\n",
    "##### parch: 함께 탑승한 부모, 자식의 수\n",
    "##### ticket: 티켓번호\n",
    "##### fare: 운임\n",
    "##### cabin: 객실 번호\n",
    "##### embarked: 탑승항구 (C=Cherbourg, Q=Queenstown, S=Southampton)"
   ]
  },
  {
   "cell_type": "markdown",
   "metadata": {},
   "source": [
    "#### 1.1. 전체 데이터 수 확인"
   ]
  },
  {
   "cell_type": "code",
   "execution_count": 51,
   "metadata": {},
   "outputs": [
    {
     "data": {
      "application/vnd.jupyter.widget-view+json": {
       "model_id": "6d2d82f070d54a81b59b82d78af1dd9a",
       "version_major": 2,
       "version_minor": 0
      },
      "text/plain": [
       "FloatProgress(value=0.0, bar_style='info', description='Progress:', layout=Layout(height='25px', width='50%'),…"
      ]
     },
     "metadata": {},
     "output_type": "display_data"
    },
    {
     "name": "stdout",
     "output_type": "stream",
     "text": [
      "891"
     ]
    }
   ],
   "source": [
    "titanic_df.count()"
   ]
  },
  {
   "cell_type": "markdown",
   "metadata": {},
   "source": [
    "#### 1.2. 데이터 스키마 확인"
   ]
  },
  {
   "cell_type": "code",
   "execution_count": 52,
   "metadata": {},
   "outputs": [
    {
     "data": {
      "application/vnd.jupyter.widget-view+json": {
       "model_id": "6b2bce7877734d79b1141a36b473bffe",
       "version_major": 2,
       "version_minor": 0
      },
      "text/plain": [
       "FloatProgress(value=0.0, bar_style='info', description='Progress:', layout=Layout(height='25px', width='50%'),…"
      ]
     },
     "metadata": {},
     "output_type": "display_data"
    },
    {
     "name": "stdout",
     "output_type": "stream",
     "text": [
      "root\n",
      " |-- passengerid: integer (nullable = true)\n",
      " |-- label: integer (nullable = true)\n",
      " |-- pclass: long (nullable = true)\n",
      " |-- name: string (nullable = true)\n",
      " |-- sex: string (nullable = true)\n",
      " |-- age: double (nullable = true)\n",
      " |-- sibsp: long (nullable = true)\n",
      " |-- parch: long (nullable = true)\n",
      " |-- ticket: string (nullable = true)\n",
      " |-- fare: double (nullable = true)\n",
      " |-- cabin: string (nullable = true)\n",
      " |-- embarked: string (nullable = true)"
     ]
    }
   ],
   "source": [
    "titanic_df.printSchema()"
   ]
  },
  {
   "cell_type": "markdown",
   "metadata": {},
   "source": [
    "#### 1.3. 사용할 데이터에 모든 컬럼에 대해 요약 통계를 확인합니다."
   ]
  },
  {
   "cell_type": "code",
   "execution_count": 53,
   "metadata": {},
   "outputs": [
    {
     "data": {
      "application/vnd.jupyter.widget-view+json": {
       "model_id": "54b782a0f29e4e3e956f74fb33d79901",
       "version_major": 2,
       "version_minor": 0
      },
      "text/plain": [
       "FloatProgress(value=0.0, bar_style='info', description='Progress:', layout=Layout(height='25px', width='50%'),…"
      ]
     },
     "metadata": {},
     "output_type": "display_data"
    },
    {
     "name": "stdout",
     "output_type": "stream",
     "text": [
      "+-------+------------------+-------------------+------------------+--------------------+------+------------------+------------------+-------------------+------------------+-----------------+-----+--------+\n",
      "|summary|       passengerid|              label|            pclass|                name|   sex|               age|             sibsp|              parch|            ticket|             fare|cabin|embarked|\n",
      "+-------+------------------+-------------------+------------------+--------------------+------+------------------+------------------+-------------------+------------------+-----------------+-----+--------+\n",
      "|  count|               891|                891|               891|                 891|   891|               714|               891|                891|               891|              891|  891|     891|\n",
      "|   mean|             446.0| 0.3838383838383838| 2.308641975308642|                null|  null|29.699117647058827|0.5230078563411896|0.38159371492704824|260318.54916792738|32.20420796857465| null|    null|\n",
      "| stddev|257.35384201523004|0.48659245426485764|0.8360712409770488|                null|  null|14.526497332334042|1.1027434322934313| 0.8060572211299484| 471609.2686883497|49.69342859718088| null|    null|\n",
      "|    min|                 1|                  0|                 1|Andersen-Miss. Ca...|female|              0.42|                 0|                  0|            110152|              0.0|     |        |\n",
      "|    max|               891|                  1|                 3|    van Mr. Philemon|  male|              80.0|                 8|                  6|         WE/P 5735|         512.3292|    T|       S|\n",
      "+-------+------------------+-------------------+------------------+--------------------+------+------------------+------------------+-------------------+------------------+-----------------+-----+--------+"
     ]
    }
   ],
   "source": [
    "titanic_df.describe().show()"
   ]
  },
  {
   "cell_type": "markdown",
   "metadata": {},
   "source": [
    "##### 전체 데이터가 891개로 다른 모든 컬럼은 891개의 데이터를 모두 가지고 있지만 age만 714개로 누락된 데이터가 존재함을 확인합니다.\n",
    "##### 빈 스트링은 이 요약 통계에서 구분이 불가능함으로 이후에 별도의 확인 과정을 통해 따로 체크하도록 합니다."
   ]
  },
  {
   "cell_type": "markdown",
   "metadata": {},
   "source": [
    "### 2. Exploratory data analysis"
   ]
  },
  {
   "cell_type": "markdown",
   "metadata": {},
   "source": [
    "#### 2.1. 탑승객 생존율 확인"
   ]
  },
  {
   "cell_type": "code",
   "execution_count": 54,
   "metadata": {},
   "outputs": [
    {
     "data": {
      "application/vnd.jupyter.widget-view+json": {
       "model_id": "4d9128bc479d4ecb8a0bb2b7613ac070",
       "version_major": 2,
       "version_minor": 0
      },
      "text/plain": [
       "FloatProgress(value=0.0, bar_style='info', description='Progress:', layout=Layout(height='25px', width='50%'),…"
      ]
     },
     "metadata": {},
     "output_type": "display_data"
    },
    {
     "name": "stdout",
     "output_type": "stream",
     "text": [
      "+-----+-----+\n",
      "|label|count|\n",
      "+-----+-----+\n",
      "|    1|  342|\n",
      "|    0|  549|\n",
      "+-----+-----+"
     ]
    }
   ],
   "source": [
    "titanic_df.groupBy('label').count().show()"
   ]
  },
  {
   "cell_type": "markdown",
   "metadata": {},
   "source": [
    "##### 891명의 승객 중 342명만 생존했음을 알 수 있습니다.\n",
    "##### 생존율은 sex, age, pclass와 같은 승객 특징들과 관련이 있으므로 해당 feature에 따른 생존율을 살펴봅니다."
   ]
  },
  {
   "cell_type": "markdown",
   "metadata": {},
   "source": [
    "#### 2.2. 성별에 따른 생존율 확인"
   ]
  },
  {
   "cell_type": "code",
   "execution_count": 55,
   "metadata": {},
   "outputs": [
    {
     "data": {
      "application/vnd.jupyter.widget-view+json": {
       "model_id": "256f557d3e1b44369ac84092364958f9",
       "version_major": 2,
       "version_minor": 0
      },
      "text/plain": [
       "FloatProgress(value=0.0, bar_style='info', description='Progress:', layout=Layout(height='25px', width='50%'),…"
      ]
     },
     "metadata": {},
     "output_type": "display_data"
    },
    {
     "name": "stdout",
     "output_type": "stream",
     "text": [
      "+------+-----+-----+\n",
      "|   sex|label|count|\n",
      "+------+-----+-----+\n",
      "|female|    0|   81|\n",
      "|female|    1|  233|\n",
      "|  male|    0|  468|\n",
      "|  male|    1|  109|\n",
      "+------+-----+-----+"
     ]
    }
   ],
   "source": [
    "titanic_df.groupBy('sex', 'label').count().orderBy('sex', 'label', ascending=[1, 1]).show()"
   ]
  },
  {
   "cell_type": "markdown",
   "metadata": {},
   "source": [
    "##### 남성보다 여성의 생존율이 높음을 알 수 있습니다."
   ]
  },
  {
   "cell_type": "markdown",
   "metadata": {},
   "source": [
    "#### 2.3. 티켓등급에 따른 생존율 확인"
   ]
  },
  {
   "cell_type": "code",
   "execution_count": 56,
   "metadata": {},
   "outputs": [
    {
     "data": {
      "application/vnd.jupyter.widget-view+json": {
       "model_id": "328bb67b7a564206a9d00ecc19bd3ba6",
       "version_major": 2,
       "version_minor": 0
      },
      "text/plain": [
       "FloatProgress(value=0.0, bar_style='info', description='Progress:', layout=Layout(height='25px', width='50%'),…"
      ]
     },
     "metadata": {},
     "output_type": "display_data"
    },
    {
     "name": "stdout",
     "output_type": "stream",
     "text": [
      "+------+-----+-----+\n",
      "|pclass|label|count|\n",
      "+------+-----+-----+\n",
      "|     1|    0|   80|\n",
      "|     1|    1|  136|\n",
      "|     2|    0|   97|\n",
      "|     2|    1|   87|\n",
      "|     3|    0|  372|\n",
      "|     3|    1|  119|\n",
      "+------+-----+-----+"
     ]
    }
   ],
   "source": [
    "titanic_df.groupBy('pclass', 'label').count().orderBy('pclass', 'label', ascending=[1, 1]).show()"
   ]
  },
  {
   "cell_type": "markdown",
   "metadata": {},
   "source": [
    "##### 1등석의 생존율은 높고, 3등석의 생존율은 낮은 것을 알 수 있습니다."
   ]
  },
  {
   "cell_type": "markdown",
   "metadata": {},
   "source": [
    "#### 2.4. 함께 탑승한 형제자매나 배우자에 따른 생존율 확인"
   ]
  },
  {
   "cell_type": "code",
   "execution_count": 57,
   "metadata": {},
   "outputs": [
    {
     "data": {
      "application/vnd.jupyter.widget-view+json": {
       "model_id": "43416474c94740fba78990de851707c4",
       "version_major": 2,
       "version_minor": 0
      },
      "text/plain": [
       "FloatProgress(value=0.0, bar_style='info', description='Progress:', layout=Layout(height='25px', width='50%'),…"
      ]
     },
     "metadata": {},
     "output_type": "display_data"
    },
    {
     "name": "stdout",
     "output_type": "stream",
     "text": [
      "+-----+-----+-----+\n",
      "|sibsp|label|count|\n",
      "+-----+-----+-----+\n",
      "|    0|    0|  398|\n",
      "|    0|    1|  210|\n",
      "|    1|    0|   97|\n",
      "|    1|    1|  112|\n",
      "|    2|    0|   15|\n",
      "|    2|    1|   13|\n",
      "|    3|    0|   12|\n",
      "|    3|    1|    4|\n",
      "|    4|    0|   15|\n",
      "|    4|    1|    3|\n",
      "|    5|    0|    5|\n",
      "|    8|    0|    7|\n",
      "+-----+-----+-----+"
     ]
    }
   ],
   "source": [
    "titanic_df.groupBy('sibsp', 'label').count().orderBy('sibsp', 'label', ascending=[1, 1]).show()"
   ]
  },
  {
   "cell_type": "markdown",
   "metadata": {},
   "source": [
    "##### 동승한 형제자매나 배우자가 없는 경우 생존율이 낮은 것을 알 수 있습니다."
   ]
  },
  {
   "cell_type": "markdown",
   "metadata": {},
   "source": [
    "#### 2.5. 함께 탑승한 부모님이나 자녀에 따른 생존율 확인"
   ]
  },
  {
   "cell_type": "code",
   "execution_count": 58,
   "metadata": {},
   "outputs": [
    {
     "data": {
      "application/vnd.jupyter.widget-view+json": {
       "model_id": "25aa2d8cc9c6485cb376e0c5ef6d7b43",
       "version_major": 2,
       "version_minor": 0
      },
      "text/plain": [
       "FloatProgress(value=0.0, bar_style='info', description='Progress:', layout=Layout(height='25px', width='50%'),…"
      ]
     },
     "metadata": {},
     "output_type": "display_data"
    },
    {
     "name": "stdout",
     "output_type": "stream",
     "text": [
      "+-----+-----+-----+\n",
      "|parch|label|count|\n",
      "+-----+-----+-----+\n",
      "|    0|    0|  445|\n",
      "|    0|    1|  233|\n",
      "|    1|    0|   53|\n",
      "|    1|    1|   65|\n",
      "|    2|    0|   40|\n",
      "|    2|    1|   40|\n",
      "|    3|    0|    2|\n",
      "|    3|    1|    3|\n",
      "|    4|    0|    4|\n",
      "|    5|    0|    4|\n",
      "|    5|    1|    1|\n",
      "|    6|    0|    1|\n",
      "+-----+-----+-----+"
     ]
    }
   ],
   "source": [
    "titanic_df.groupBy('parch', 'label').count().orderBy('parch', 'label', ascending=[1, 1]).show()"
   ]
  },
  {
   "cell_type": "markdown",
   "metadata": {},
   "source": [
    "##### 동승한 부모나 자녀가 없는 경우 생존율이 낮은 것을 알 수 있습니다."
   ]
  },
  {
   "cell_type": "markdown",
   "metadata": {},
   "source": [
    "#### 2.6 탑승항구에 따른 생존율 확인"
   ]
  },
  {
   "cell_type": "code",
   "execution_count": 59,
   "metadata": {},
   "outputs": [
    {
     "data": {
      "application/vnd.jupyter.widget-view+json": {
       "model_id": "2e4fe15afd63414aa662e970a99b6d63",
       "version_major": 2,
       "version_minor": 0
      },
      "text/plain": [
       "FloatProgress(value=0.0, bar_style='info', description='Progress:', layout=Layout(height='25px', width='50%'),…"
      ]
     },
     "metadata": {},
     "output_type": "display_data"
    },
    {
     "name": "stdout",
     "output_type": "stream",
     "text": [
      "+--------+-----+-----+\n",
      "|embarked|label|count|\n",
      "+--------+-----+-----+\n",
      "|        |    1|    2|\n",
      "|       C|    0|   75|\n",
      "|       C|    1|   93|\n",
      "|       Q|    0|   47|\n",
      "|       Q|    1|   30|\n",
      "|       S|    0|  427|\n",
      "|       S|    1|  217|\n",
      "+--------+-----+-----+"
     ]
    }
   ],
   "source": [
    "titanic_df.groupBy('embarked', 'label').count().orderBy('embarked', 'label', ascending=[1, 1]).show()"
   ]
  },
  {
   "cell_type": "markdown",
   "metadata": {},
   "source": [
    "##### 2개의 데이터는 탑승항구가 명시되어 있지 않는 것을 알 수 있습니다.\n",
    "##### 탑승항구 S(Southampton)의 생존율이 낮은 것을 알 수 있습니다.\n",
    "##### 따라서, 탑승항구 S(Southampton)의 생존율이 낮은 이유를 알기 위해 탑승항구와 탑승석의 관계를 살펴볼 필요가 있습니다."
   ]
  },
  {
   "cell_type": "code",
   "execution_count": 60,
   "metadata": {},
   "outputs": [
    {
     "data": {
      "application/vnd.jupyter.widget-view+json": {
       "model_id": "d0c7de36f0b24a0498988353f7a1a332",
       "version_major": 2,
       "version_minor": 0
      },
      "text/plain": [
       "FloatProgress(value=0.0, bar_style='info', description='Progress:', layout=Layout(height='25px', width='50%'),…"
      ]
     },
     "metadata": {},
     "output_type": "display_data"
    },
    {
     "name": "stdout",
     "output_type": "stream",
     "text": [
      "+--------+------+-----+\n",
      "|embarked|pclass|count|\n",
      "+--------+------+-----+\n",
      "|        |     1|    2|\n",
      "|       C|     1|   85|\n",
      "|       C|     2|   17|\n",
      "|       C|     3|   66|\n",
      "|       Q|     1|    2|\n",
      "|       Q|     2|    3|\n",
      "|       Q|     3|   72|\n",
      "|       S|     1|  127|\n",
      "|       S|     2|  164|\n",
      "|       S|     3|  353|\n",
      "+--------+------+-----+"
     ]
    }
   ],
   "source": [
    "titanic_df.groupBy('embarked', 'pclass').count().orderBy('embarked', 'pclass', ascending=[1, 1]).show()"
   ]
  },
  {
   "cell_type": "markdown",
   "metadata": {},
   "source": [
    "##### 탑승항구 S(Southampton)의 생존율이 낮은 이유는 대다수 탑승객이 3등석이기 때문임을 알 수 있습니다."
   ]
  },
  {
   "cell_type": "markdown",
   "metadata": {},
   "source": [
    "### 3. Feature engineering"
   ]
  },
  {
   "cell_type": "markdown",
   "metadata": {},
   "source": [
    "#### 3.1. Null Column Check\n",
    "##### Null 값이나 empty string을 가진 Column이 존재하는 지 확인합니다."
   ]
  },
  {
   "cell_type": "markdown",
   "metadata": {},
   "source": [
    "##### 3.1.1. Null Value를 체크하기 위한 UDF(User Defined Function) 함수 선언"
   ]
  },
  {
   "cell_type": "code",
   "execution_count": 61,
   "metadata": {},
   "outputs": [
    {
     "data": {
      "application/vnd.jupyter.widget-view+json": {
       "model_id": "319645a505e448b1950b23f40864d0c1",
       "version_major": 2,
       "version_minor": 0
      },
      "text/plain": [
       "FloatProgress(value=0.0, bar_style='info', description='Progress:', layout=Layout(height='25px', width='50%'),…"
      ]
     },
     "metadata": {},
     "output_type": "display_data"
    }
   ],
   "source": [
    "def count_null_or_empty_value(df):\n",
    "    null_columns_counts = []\n",
    "    \n",
    "    for column in df.columns:\n",
    "        null_rows = df.where((col(column).isNull()) | (col(column) == '')).count()\n",
    "    \n",
    "        if(null_rows > 0):\n",
    "              null_columns_counts.append((column, null_rows))\n",
    "    return(null_columns_counts)"
   ]
  },
  {
   "cell_type": "markdown",
   "metadata": {},
   "source": [
    "##### 3.1.2. count_null_or_empty_value UDF를 이용하여 Null Value feature 확인"
   ]
  },
  {
   "cell_type": "code",
   "execution_count": 62,
   "metadata": {},
   "outputs": [
    {
     "data": {
      "application/vnd.jupyter.widget-view+json": {
       "model_id": "7266c469f6b840899974688c53cca556",
       "version_major": 2,
       "version_minor": 0
      },
      "text/plain": [
       "FloatProgress(value=0.0, bar_style='info', description='Progress:', layout=Layout(height='25px', width='50%'),…"
      ]
     },
     "metadata": {},
     "output_type": "display_data"
    },
    {
     "name": "stdout",
     "output_type": "stream",
     "text": [
      "+----------------------+-----------------+\n",
      "|Column_With_Null_Value|Null_Values_Count|\n",
      "+----------------------+-----------------+\n",
      "|                   age|              177|\n",
      "|                 cabin|              687|\n",
      "|              embarked|                2|\n",
      "+----------------------+-----------------+"
     ]
    }
   ],
   "source": [
    "null_columns_count_list = count_null_or_empty_value(titanic_df)\n",
    "spark.createDataFrame(null_columns_count_list, ['Column_With_Null_Value', 'Null_Values_Count']).show()"
   ]
  },
  {
   "cell_type": "markdown",
   "metadata": {},
   "source": [
    "##### age feature가 177개의 null value를 가진 것이 확인되었습니다.\n",
    "##### cabin feature가 687개의 empty string을 가진 것이 확인되었습니다.\n",
    "##### embarked feature가 2개의 empty string을 가진 것이 확인되었습니다.\n",
    "##### 이 정보는 이후 진행되는 feature engineering에서 참고 자료로 사용합니다."
   ]
  },
  {
   "cell_type": "markdown",
   "metadata": {},
   "source": [
    "#### 3.2. Name"
   ]
  },
  {
   "cell_type": "code",
   "execution_count": 63,
   "metadata": {},
   "outputs": [
    {
     "data": {
      "application/vnd.jupyter.widget-view+json": {
       "model_id": "6c42d3c8bcf04f798b7a9df74d399ff0",
       "version_major": 2,
       "version_minor": 0
      },
      "text/plain": [
       "FloatProgress(value=0.0, bar_style='info', description='Progress:', layout=Layout(height='25px', width='50%'),…"
      ]
     },
     "metadata": {},
     "output_type": "display_data"
    },
    {
     "name": "stdout",
     "output_type": "stream",
     "text": [
      "+--------------------+\n",
      "|                name|\n",
      "+--------------------+\n",
      "|Mrs. Carl Oscar (...|\n",
      "|O'Miss. Ellen \"Ne...|\n",
      "|Mrs. Amin S (Mari...|\n",
      "|        Mr. Albert A|\n",
      "|         Mrs. (Rosa)|\n",
      "|Miss. Lyyli Karol...|\n",
      "|     Miss. Harriet R|\n",
      "|          Mr. Victor|\n",
      "|         Mr. James H|\n",
      "|        Miss. Amelia|\n",
      "|    Mr. Rene Jacques|\n",
      "|   Miss. Pieta Sofia|\n",
      "|Mr. Reginald Charles|\n",
      "| Mr. Francis \"Frank\"|\n",
      "|Mrs. Frank Manley...|\n",
      "|            Mr. Leon|\n",
      "|     Mr. Henrik Juul|\n",
      "| Mr. Malkolm Joackim|\n",
      "|Vander Mrs. Juliu...|\n",
      "|Mrs. Lizzie (Eliz...|\n",
      "+--------------------+\n",
      "only showing top 20 rows"
     ]
    }
   ],
   "source": [
    "titanic_df.select(\"name\").show()"
   ]
  },
  {
   "cell_type": "markdown",
   "metadata": {},
   "source": [
    "##### 샘플 데이터에서 name field를 살펴보면 그대로 사용하기는 어렵고 정리가 필요하다는 것을 알 수 있습니다.\n",
    "##### name field에 나이와 성별 기혼 등을 의미하는 호칭(Mr, Mrs, Miss)이 있는 것을 알 수 있습니다. "
   ]
  },
  {
   "cell_type": "markdown",
   "metadata": {},
   "source": [
    "##### 3.2.1. name column에서 유의미한 호칭만 추출하여 별도의 initial column으로 만들고 기존 데이터에 추가"
   ]
  },
  {
   "cell_type": "code",
   "execution_count": 64,
   "metadata": {},
   "outputs": [
    {
     "data": {
      "application/vnd.jupyter.widget-view+json": {
       "model_id": "aa7b9870685c4818ae0450ee92ee2477",
       "version_major": 2,
       "version_minor": 0
      },
      "text/plain": [
       "FloatProgress(value=0.0, bar_style='info', description='Progress:', layout=Layout(height='25px', width='50%'),…"
      ]
     },
     "metadata": {},
     "output_type": "display_data"
    },
    {
     "name": "stdout",
     "output_type": "stream",
     "text": [
      "+-----------+-----+------+--------------------+------+----+-----+-----+----------------+--------+-----+--------+-------+\n",
      "|passengerid|label|pclass|                name|   sex| age|sibsp|parch|          ticket|    fare|cabin|embarked|initial|\n",
      "+-----------+-----+------+--------------------+------+----+-----+-----+----------------+--------+-----+--------+-------+\n",
      "|         26|    1|     3|Mrs. Carl Oscar (...|female|38.0|    1|    5|          347077| 31.3875|     |       S|    Mrs|\n",
      "|         29|    1|     3|O'Miss. Ellen \"Ne...|female|null|    0|    0|          330959|  7.8792|     |       Q|   Miss|\n",
      "|        474|    1|     2|Mrs. Amin S (Mari...|female|23.0|    0|    0| SC/AH Basle 541| 13.7917|    D|       C|    Mrs|\n",
      "|         65|    0|     1|        Mr. Albert A|  male|null|    0|    0|        PC 17605| 27.7208|     |       C|     Mr|\n",
      "|        191|    1|     2|         Mrs. (Rosa)|female|32.0|    0|    0|          234604|    13.0|     |       S|    Mrs|\n",
      "|        418|    1|     2|Miss. Lyyli Karol...|female|18.0|    0|    2|          250652|    13.0|     |       S|   Miss|\n",
      "|        541|    1|     1|     Miss. Harriet R|female|36.0|    0|    2|       WE/P 5735|    71.0|  B22|       S|   Miss|\n",
      "|        558|    0|     1|          Mr. Victor|  male|null|    0|    0|        PC 17757| 227.525|     |       C|     Mr|\n",
      "|        222|    0|     2|         Mr. James H|  male|27.0|    0|    0|          220367|    13.0|     |       S|     Mr|\n",
      "|        270|    1|     1|        Miss. Amelia|female|35.0|    0|    0|        PC 17760|135.6333|  C99|       S|   Miss|\n",
      "|        293|    0|     2|    Mr. Rene Jacques|  male|36.0|    0|    0|   SC/Paris 2163|  12.875|    D|       C|     Mr|\n",
      "|        730|    0|     3|   Miss. Pieta Sofia|female|25.0|    1|    0|STON/O2. 3101271|   7.925|     |       S|   Miss|\n",
      "|        243|    0|     2|Mr. Reginald Charles|  male|29.0|    0|    0|     W./C. 14263|    10.5|     |       S|     Mr|\n",
      "|        278|    0|     2| Mr. Francis \"Frank\"|  male|null|    0|    0|          239853|     0.0|     |       S|     Mr|\n",
      "|        367|    1|     1|Mrs. Frank Manley...|female|60.0|    1|    0|          110813|   75.25|  D37|       C|    Mrs|\n",
      "|        442|    0|     3|            Mr. Leon|  male|20.0|    0|    0|          345769|     9.5|     |       S|     Mr|\n",
      "|        705|    0|     3|     Mr. Henrik Juul|  male|26.0|    1|    0|          350025|  7.8542|     |       S|     Mr|\n",
      "|        720|    0|     3| Mr. Malkolm Joackim|  male|33.0|    0|    0|          347062|   7.775|     |       S|     Mr|\n",
      "|         19|    0|     3|Vander Mrs. Juliu...|female|31.0|    1|    0|          345763|    18.0|     |       S|    Mrs|\n",
      "|         54|    1|     2|Mrs. Lizzie (Eliz...|female|29.0|    1|    0|            2926|    26.0|     |       S|    Mrs|\n",
      "+-----------+-----+------+--------------------+------+----+-----+-----+----------------+--------+-----+--------+-------+\n",
      "only showing top 20 rows"
     ]
    }
   ],
   "source": [
    "titanic_df = titanic_df.withColumn('initial', regexp_extract(col('name'), \"(\\w+)\\.\", 1))\n",
    "titanic_df.show()"
   ]
  },
  {
   "cell_type": "markdown",
   "metadata": {},
   "source": [
    "##### 3.2.2 생성된 initial feature의 데이터 분포 확인 \n",
    "##### MR: 성인 남성\n",
    "##### Miss: 여자 아동\n",
    "##### Mrs: 기혼 여성\n",
    "##### Master: 남자 아동\n",
    "##### MS: 성인 여성"
   ]
  },
  {
   "cell_type": "code",
   "execution_count": 65,
   "metadata": {},
   "outputs": [
    {
     "data": {
      "application/vnd.jupyter.widget-view+json": {
       "model_id": "2a54dcfc3a1d42b596643414ccd7552b",
       "version_major": 2,
       "version_minor": 0
      },
      "text/plain": [
       "FloatProgress(value=0.0, bar_style='info', description='Progress:', layout=Layout(height='25px', width='50%'),…"
      ]
     },
     "metadata": {},
     "output_type": "display_data"
    },
    {
     "name": "stdout",
     "output_type": "stream",
     "text": [
      "+--------+-----+\n",
      "| initial|count|\n",
      "+--------+-----+\n",
      "|      Mr|  517|\n",
      "|    Miss|  182|\n",
      "|     Mrs|  125|\n",
      "|  Master|   40|\n",
      "|      Dr|    7|\n",
      "|     Rev|    6|\n",
      "|     Col|    2|\n",
      "|    Mlle|    2|\n",
      "|   Major|    2|\n",
      "|     Don|    1|\n",
      "|    Capt|    1|\n",
      "|    Lady|    1|\n",
      "|Countess|    1|\n",
      "|     Mme|    1|\n",
      "|Jonkheer|    1|\n",
      "|     Sir|    1|\n",
      "|      Ms|    1|\n",
      "+--------+-----+"
     ]
    }
   ],
   "source": [
    "titanic_df.groupBy('initial').count().orderBy('count', ascending=[0]).show()"
   ]
  },
  {
   "cell_type": "markdown",
   "metadata": {},
   "source": [
    "##### Mlle나 Mme 같이 Miss를 다르게 표현한 호칭도 확인할 수 있고, Master까지만 유의미하고 나머지는 하나로 그룹화하여 Other로 통합하는 것이 이후 데이터 분석에 효율적일 것으로 생각됩니다.  "
   ]
  },
  {
   "cell_type": "code",
   "execution_count": 66,
   "metadata": {},
   "outputs": [
    {
     "data": {
      "application/vnd.jupyter.widget-view+json": {
       "model_id": "844b14023fb94154bbe0e008c187d0d6",
       "version_major": 2,
       "version_minor": 0
      },
      "text/plain": [
       "FloatProgress(value=0.0, bar_style='info', description='Progress:', layout=Layout(height='25px', width='50%'),…"
      ]
     },
     "metadata": {},
     "output_type": "display_data"
    },
    {
     "name": "stdout",
     "output_type": "stream",
     "text": [
      "+-------+-----+\n",
      "|initial|count|\n",
      "+-------+-----+\n",
      "|     Mr|  529|\n",
      "|   Miss|  186|\n",
      "|    Mrs|  127|\n",
      "| Master|   40|\n",
      "|  Other|    9|\n",
      "+-------+-----+"
     ]
    }
   ],
   "source": [
    "titanic_df = titanic_df.replace(['Mlle','Mme', 'Ms', 'Dr','Major','Lady','Countess','Jonkheer','Col','Rev','Capt','Sir','Don'],\n",
    "               ['Miss','Miss','Miss','Mr','Mr',  'Mrs',  'Mrs',  'Other',  'Other','Other','Mr','Mr','Mr'])\n",
    "titanic_df.groupBy(\"initial\").count().orderBy(\"count\", ascending=[0]).show()"
   ]
  },
  {
   "cell_type": "markdown",
   "metadata": {},
   "source": [
    "##### 최종 정리된 Initial feature의 모습을 확인할 수 있습니다."
   ]
  },
  {
   "cell_type": "markdown",
   "metadata": {},
   "source": [
    "#### 3.3. Age"
   ]
  },
  {
   "cell_type": "code",
   "execution_count": 67,
   "metadata": {},
   "outputs": [
    {
     "data": {
      "application/vnd.jupyter.widget-view+json": {
       "model_id": "b60e2f20acb54dbcbc30d64e8625b5d5",
       "version_major": 2,
       "version_minor": 0
      },
      "text/plain": [
       "FloatProgress(value=0.0, bar_style='info', description='Progress:', layout=Layout(height='25px', width='50%'),…"
      ]
     },
     "metadata": {},
     "output_type": "display_data"
    },
    {
     "name": "stdout",
     "output_type": "stream",
     "text": [
      "177"
     ]
    }
   ],
   "source": [
    "titanic_df.where((col('age').isNull()) | (col('age') == '')).count()"
   ]
  },
  {
   "cell_type": "markdown",
   "metadata": {},
   "source": [
    "##### age에 177개의 빈 값은 적절하게 채워줘야 나중에 모델링할 때 성능을 높일 수 있습니다."
   ]
  },
  {
   "cell_type": "markdown",
   "metadata": {},
   "source": [
    "##### 3.3.1. age의 평균값을 확인"
   ]
  },
  {
   "cell_type": "code",
   "execution_count": 68,
   "metadata": {},
   "outputs": [
    {
     "data": {
      "application/vnd.jupyter.widget-view+json": {
       "model_id": "b884357b1c6f4a0e9a75f3b827195d7b",
       "version_major": 2,
       "version_minor": 0
      },
      "text/plain": [
       "FloatProgress(value=0.0, bar_style='info', description='Progress:', layout=Layout(height='25px', width='50%'),…"
      ]
     },
     "metadata": {},
     "output_type": "display_data"
    },
    {
     "name": "stdout",
     "output_type": "stream",
     "text": [
      "+------------------+\n",
      "|          mean_age|\n",
      "+------------------+\n",
      "|29.699117647058827|\n",
      "+------------------+"
     ]
    }
   ],
   "source": [
    "# mean('age')의 output column 이름이 mean(age)여서 mean_age로 alias 함 \n",
    "titanic_df.select(mean('age').alias('mean_age')).show()"
   ]
  },
  {
   "cell_type": "markdown",
   "metadata": {},
   "source": [
    "##### 3.3.2. 전체 age의 평균은 29.70이나 우리는 initial feature를 알고 각 initial age 평균을 살펴봅니다."
   ]
  },
  {
   "cell_type": "code",
   "execution_count": 69,
   "metadata": {},
   "outputs": [
    {
     "data": {
      "application/vnd.jupyter.widget-view+json": {
       "model_id": "fc02da3057c0483faa9b4ea6d0660c7b",
       "version_major": 2,
       "version_minor": 0
      },
      "text/plain": [
       "FloatProgress(value=0.0, bar_style='info', description='Progress:', layout=Layout(height='25px', width='50%'),…"
      ]
     },
     "metadata": {},
     "output_type": "display_data"
    },
    {
     "name": "stdout",
     "output_type": "stream",
     "text": [
      "+-------+------------------+\n",
      "|initial|           avg_age|\n",
      "+-------+------------------+\n",
      "| Master| 4.574166666666667|\n",
      "|   Miss|             21.86|\n",
      "|     Mr| 32.73960880195599|\n",
      "|    Mrs|35.981818181818184|\n",
      "|  Other|45.888888888888886|\n",
      "+-------+------------------+"
     ]
    }
   ],
   "source": [
    "import pyspark.sql.functions as sf\n",
    "\n",
    "# avg('age')의 output column 이름이 avg(age)여서 avg_age로 alias 함 \n",
    "titanic_df.groupby('initial').agg(sf.avg('age').alias('avg_age')).orderBy('avg_age', ascending=[1]).show()"
   ]
  },
  {
   "cell_type": "markdown",
   "metadata": {},
   "source": [
    "##### 3.3.3. 각 initial age 평균을 알 수 있으므로 우리는 빈 age 값을 이를 이용하여 좀 더 스마트하게 채워줄 수 있습니다."
   ]
  },
  {
   "cell_type": "code",
   "execution_count": 70,
   "metadata": {},
   "outputs": [
    {
     "data": {
      "application/vnd.jupyter.widget-view+json": {
       "model_id": "ae64d1f3b0874ca9a8cebec30d143a83",
       "version_major": 2,
       "version_minor": 0
      },
      "text/plain": [
       "FloatProgress(value=0.0, bar_style='info', description='Progress:', layout=Layout(height='25px', width='50%'),…"
      ]
     },
     "metadata": {},
     "output_type": "display_data"
    }
   ],
   "source": [
    "titanic_df = titanic_df.withColumn('age', when((titanic_df['initial'] == 'Miss') & (titanic_df['age'].isNull()), 22).otherwise(titanic_df['age']))\n",
    "titanic_df = titanic_df.withColumn('age', when((titanic_df['initial'] == 'Other') & (titanic_df['age'].isNull()), 46).otherwise(titanic_df['age']))\n",
    "titanic_df = titanic_df.withColumn('age', when((titanic_df['initial'] == 'Master') & (titanic_df['age'].isNull()), 5).otherwise(titanic_df['age']))\n",
    "titanic_df = titanic_df.withColumn('age', when((titanic_df['initial'] == 'Mr') & (titanic_df['age'].isNull()), 33).otherwise(titanic_df['age']))\n",
    "titanic_df = titanic_df.withColumn('age', when((titanic_df['initial'] == 'Mrs') & (titanic_df['age'].isNull()), 36).otherwise(titanic_df['age']))"
   ]
  },
  {
   "cell_type": "markdown",
   "metadata": {},
   "source": [
    "##### 3.3.4. age의 요약 통계를 다시 확인합니다."
   ]
  },
  {
   "cell_type": "code",
   "execution_count": 71,
   "metadata": {},
   "outputs": [
    {
     "data": {
      "application/vnd.jupyter.widget-view+json": {
       "model_id": "369f3bd209b34bdf9e4d4056cba9fac1",
       "version_major": 2,
       "version_minor": 0
      },
      "text/plain": [
       "FloatProgress(value=0.0, bar_style='info', description='Progress:', layout=Layout(height='25px', width='50%'),…"
      ]
     },
     "metadata": {},
     "output_type": "display_data"
    },
    {
     "name": "stdout",
     "output_type": "stream",
     "text": [
      "+-------+------------------+\n",
      "|summary|               age|\n",
      "+-------+------------------+\n",
      "|  count|               891|\n",
      "|   mean|29.841941638608308|\n",
      "| stddev|13.281524514031318|\n",
      "|    min|              0.42|\n",
      "|    max|              80.0|\n",
      "+-------+------------------+"
     ]
    }
   ],
   "source": [
    "titanic_df.select(col('age')).describe().show()"
   ]
  },
  {
   "cell_type": "markdown",
   "metadata": {},
   "source": [
    "##### null 값 없이 891개의 값이 존재하며, 평균도 이전 값을 유지하고 있는 것을 확인할 수 있습니다."
   ]
  },
  {
   "cell_type": "markdown",
   "metadata": {},
   "source": [
    "##### 3.3.5. initial에 따른 생존율을 확인합니다."
   ]
  },
  {
   "cell_type": "code",
   "execution_count": 72,
   "metadata": {},
   "outputs": [
    {
     "data": {
      "application/vnd.jupyter.widget-view+json": {
       "model_id": "9cd4e17af38345538da03e3b9c488c32",
       "version_major": 2,
       "version_minor": 0
      },
      "text/plain": [
       "FloatProgress(value=0.0, bar_style='info', description='Progress:', layout=Layout(height='25px', width='50%'),…"
      ]
     },
     "metadata": {},
     "output_type": "display_data"
    },
    {
     "name": "stdout",
     "output_type": "stream",
     "text": [
      "+-------+-----+-----+\n",
      "|initial|label|count|\n",
      "+-------+-----+-----+\n",
      "| Master|    0|   17|\n",
      "| Master|    1|   23|\n",
      "|   Miss|    0|   55|\n",
      "|   Miss|    1|  131|\n",
      "|     Mr|    0|  443|\n",
      "|     Mr|    1|   86|\n",
      "|    Mrs|    0|   26|\n",
      "|    Mrs|    1|  101|\n",
      "|  Other|    0|    8|\n",
      "|  Other|    1|    1|\n",
      "+-------+-----+-----+"
     ]
    }
   ],
   "source": [
    "titanic_df.groupBy('initial', 'label').count().orderBy('initial', 'label', ascending=[1, 1]).show()"
   ]
  },
  {
   "cell_type": "markdown",
   "metadata": {},
   "source": [
    "##### 남성일수록 나이가 많을수록 생존율이 낮은 걸 확인할 수 있습니다."
   ]
  },
  {
   "cell_type": "markdown",
   "metadata": {},
   "source": [
    "#### 3.4. Embarked"
   ]
  },
  {
   "cell_type": "code",
   "execution_count": 73,
   "metadata": {},
   "outputs": [
    {
     "data": {
      "application/vnd.jupyter.widget-view+json": {
       "model_id": "e593bb6b19004c35971036a12d7be6dc",
       "version_major": 2,
       "version_minor": 0
      },
      "text/plain": [
       "FloatProgress(value=0.0, bar_style='info', description='Progress:', layout=Layout(height='25px', width='50%'),…"
      ]
     },
     "metadata": {},
     "output_type": "display_data"
    },
    {
     "name": "stdout",
     "output_type": "stream",
     "text": [
      "+--------+-----+\n",
      "|embarked|count|\n",
      "+--------+-----+\n",
      "|       Q|   77|\n",
      "|       C|  168|\n",
      "|       S|  644|\n",
      "|        |    2|\n",
      "+--------+-----+"
     ]
    }
   ],
   "source": [
    "titanic_df.groupBy('embarked').count().show()"
   ]
  },
  {
   "cell_type": "markdown",
   "metadata": {},
   "source": [
    "##### 3.4.1. 대부분의 승객이 'S'에 해당하고 missing 값은 단 2개 뿐이므로 missing 값을 'S'로 채워줘도 큰 문제는 없습니다."
   ]
  },
  {
   "cell_type": "code",
   "execution_count": 74,
   "metadata": {},
   "outputs": [
    {
     "data": {
      "application/vnd.jupyter.widget-view+json": {
       "model_id": "d2d97c4ca3364cf38c0819817224985c",
       "version_major": 2,
       "version_minor": 0
      },
      "text/plain": [
       "FloatProgress(value=0.0, bar_style='info', description='Progress:', layout=Layout(height='25px', width='50%'),…"
      ]
     },
     "metadata": {},
     "output_type": "display_data"
    }
   ],
   "source": [
    "titanic_df = titanic_df.na.fill({'embarked' : 'S'})"
   ]
  },
  {
   "cell_type": "markdown",
   "metadata": {},
   "source": [
    "#### 3.5. Cabin"
   ]
  },
  {
   "cell_type": "code",
   "execution_count": 75,
   "metadata": {},
   "outputs": [
    {
     "data": {
      "application/vnd.jupyter.widget-view+json": {
       "model_id": "84b068aeed274fc5a4fd2f9a6afd6903",
       "version_major": 2,
       "version_minor": 0
      },
      "text/plain": [
       "FloatProgress(value=0.0, bar_style='info', description='Progress:', layout=Layout(height='25px', width='50%'),…"
      ]
     },
     "metadata": {},
     "output_type": "display_data"
    },
    {
     "name": "stdout",
     "output_type": "stream",
     "text": [
      "687"
     ]
    }
   ],
   "source": [
    "titanic_df.where((col('cabin').isNull()) | (col('cabin') == '')).count()"
   ]
  },
  {
   "cell_type": "markdown",
   "metadata": {},
   "source": [
    "##### 3.5.1. cabin feacture는 대다수의 값이 빈 값으로 사용하기 어렵다고 판단되므로 drop 하도록 하겠습니다."
   ]
  },
  {
   "cell_type": "code",
   "execution_count": 76,
   "metadata": {},
   "outputs": [
    {
     "data": {
      "application/vnd.jupyter.widget-view+json": {
       "model_id": "2803b9735faa49018a527498e9532fd7",
       "version_major": 2,
       "version_minor": 0
      },
      "text/plain": [
       "FloatProgress(value=0.0, bar_style='info', description='Progress:', layout=Layout(height='25px', width='50%'),…"
      ]
     },
     "metadata": {},
     "output_type": "display_data"
    }
   ],
   "source": [
    "titanic_df = titanic_df.drop('cabin')"
   ]
  },
  {
   "cell_type": "code",
   "execution_count": 77,
   "metadata": {},
   "outputs": [
    {
     "data": {
      "application/vnd.jupyter.widget-view+json": {
       "model_id": "379290fe90104e009f5496159f51a5e1",
       "version_major": 2,
       "version_minor": 0
      },
      "text/plain": [
       "FloatProgress(value=0.0, bar_style='info', description='Progress:', layout=Layout(height='25px', width='50%'),…"
      ]
     },
     "metadata": {},
     "output_type": "display_data"
    },
    {
     "name": "stdout",
     "output_type": "stream",
     "text": [
      "root\n",
      " |-- passengerid: integer (nullable = true)\n",
      " |-- label: integer (nullable = true)\n",
      " |-- pclass: long (nullable = true)\n",
      " |-- name: string (nullable = true)\n",
      " |-- sex: string (nullable = true)\n",
      " |-- age: double (nullable = true)\n",
      " |-- sibsp: long (nullable = true)\n",
      " |-- parch: long (nullable = true)\n",
      " |-- ticket: string (nullable = true)\n",
      " |-- fare: double (nullable = true)\n",
      " |-- embarked: string (nullable = false)\n",
      " |-- initial: string (nullable = true)"
     ]
    }
   ],
   "source": [
    "titanic_df.printSchema()"
   ]
  },
  {
   "cell_type": "markdown",
   "metadata": {},
   "source": [
    "##### Schema에서 cabin feature가 drop 된 것을 확인할 수 있습니다."
   ]
  },
  {
   "cell_type": "markdown",
   "metadata": {},
   "source": [
    "#### 3.6. Family Size"
   ]
  },
  {
   "cell_type": "markdown",
   "metadata": {},
   "source": [
    "##### 3.6.1. sibsp와 parch를 사용해서 family_size feature를 만들어 사용하도록 하겠습니다."
   ]
  },
  {
   "cell_type": "code",
   "execution_count": 78,
   "metadata": {},
   "outputs": [
    {
     "data": {
      "application/vnd.jupyter.widget-view+json": {
       "model_id": "ebfcebc6b1894e109a3d62776c3610b4",
       "version_major": 2,
       "version_minor": 0
      },
      "text/plain": [
       "FloatProgress(value=0.0, bar_style='info', description='Progress:', layout=Layout(height='25px', width='50%'),…"
      ]
     },
     "metadata": {},
     "output_type": "display_data"
    }
   ],
   "source": [
    "titanic_df = titanic_df.withColumn('family_size', col('sibsp') + col('parch'))"
   ]
  },
  {
   "cell_type": "code",
   "execution_count": 79,
   "metadata": {},
   "outputs": [
    {
     "data": {
      "application/vnd.jupyter.widget-view+json": {
       "model_id": "049559e2d97f4b1785bb9cadc5a8f627",
       "version_major": 2,
       "version_minor": 0
      },
      "text/plain": [
       "FloatProgress(value=0.0, bar_style='info', description='Progress:', layout=Layout(height='25px', width='50%'),…"
      ]
     },
     "metadata": {},
     "output_type": "display_data"
    },
    {
     "name": "stdout",
     "output_type": "stream",
     "text": [
      "+-----------+-----+\n",
      "|family_size|count|\n",
      "+-----------+-----+\n",
      "|          0|  537|\n",
      "|          1|  161|\n",
      "|          2|  102|\n",
      "|          3|   29|\n",
      "|          5|   22|\n",
      "|          4|   15|\n",
      "|          6|   12|\n",
      "|         10|    7|\n",
      "|          7|    6|\n",
      "+-----------+-----+"
     ]
    }
   ],
   "source": [
    "titanic_df.groupBy('family_size').count().orderBy('count', ascending=[0]).show()"
   ]
  },
  {
   "cell_type": "markdown",
   "metadata": {},
   "source": [
    "##### 3.6.2. family_size를 확인하니 대다수는 0이어서 alone feature를 따로 만들어 모델링에 사용하도록 하겠습니다.\n",
    "##### alone feature의 기본 값은 0으로 설정합니다."
   ]
  },
  {
   "cell_type": "code",
   "execution_count": 80,
   "metadata": {},
   "outputs": [
    {
     "data": {
      "application/vnd.jupyter.widget-view+json": {
       "model_id": "c9d0eb5c05764b24a17bd045d1b7ec9d",
       "version_major": 2,
       "version_minor": 0
      },
      "text/plain": [
       "FloatProgress(value=0.0, bar_style='info', description='Progress:', layout=Layout(height='25px', width='50%'),…"
      ]
     },
     "metadata": {},
     "output_type": "display_data"
    }
   ],
   "source": [
    "titanic_df = titanic_df.withColumn('alone', lit(0))"
   ]
  },
  {
   "cell_type": "markdown",
   "metadata": {},
   "source": [
    "##### family_size가 0이면 alone feature를 1로 설정합니다."
   ]
  },
  {
   "cell_type": "code",
   "execution_count": 81,
   "metadata": {},
   "outputs": [
    {
     "data": {
      "application/vnd.jupyter.widget-view+json": {
       "model_id": "ba95ff1620eb47c9a1e8cf3adf194565",
       "version_major": 2,
       "version_minor": 0
      },
      "text/plain": [
       "FloatProgress(value=0.0, bar_style='info', description='Progress:', layout=Layout(height='25px', width='50%'),…"
      ]
     },
     "metadata": {},
     "output_type": "display_data"
    }
   ],
   "source": [
    "titanic_df = titanic_df.withColumn('alone', when(titanic_df['family_size'] == 0, 1).otherwise(titanic_df['alone']))"
   ]
  },
  {
   "cell_type": "markdown",
   "metadata": {},
   "source": [
    "#### 3.7. Create Index features"
   ]
  },
  {
   "cell_type": "markdown",
   "metadata": {},
   "source": [
    "##### 3.7.1. 현재까지 생성된 column들을 살펴봅니다."
   ]
  },
  {
   "cell_type": "code",
   "execution_count": 82,
   "metadata": {},
   "outputs": [
    {
     "data": {
      "application/vnd.jupyter.widget-view+json": {
       "model_id": "e43aa85b9b0b45edac4e10bd4b9eb945",
       "version_major": 2,
       "version_minor": 0
      },
      "text/plain": [
       "FloatProgress(value=0.0, bar_style='info', description='Progress:', layout=Layout(height='25px', width='50%'),…"
      ]
     },
     "metadata": {},
     "output_type": "display_data"
    },
    {
     "name": "stdout",
     "output_type": "stream",
     "text": [
      "['passengerid', 'label', 'pclass', 'name', 'sex', 'age', 'sibsp', 'parch', 'ticket', 'fare', 'embarked', 'initial', 'family_size', 'alone']"
     ]
    }
   ],
   "source": [
    "titanic_df.columns"
   ]
  },
  {
   "cell_type": "markdown",
   "metadata": {},
   "source": [
    "##### 3.7.2. 이 중 sex, embarked, initial feature는 값이 string으로 되어있어 모델링에 사용할 수 없습니다. StringIndexer를 이용해서 number로 변환한 후 별도의 column으로 추가합니다."
   ]
  },
  {
   "cell_type": "code",
   "execution_count": 83,
   "metadata": {},
   "outputs": [
    {
     "data": {
      "application/vnd.jupyter.widget-view+json": {
       "model_id": "3a3d7349e8d745c9a25e075a33d53afa",
       "version_major": 2,
       "version_minor": 0
      },
      "text/plain": [
       "FloatProgress(value=0.0, bar_style='info', description='Progress:', layout=Layout(height='25px', width='50%'),…"
      ]
     },
     "metadata": {},
     "output_type": "display_data"
    },
    {
     "name": "stdout",
     "output_type": "stream",
     "text": [
      "+-----------+-----+------+--------------------+------+----+-----+-----+----------------+--------+--------+-------+-----------+-----+---------+--------------+-------------+\n",
      "|passengerid|label|pclass|                name|   sex| age|sibsp|parch|          ticket|    fare|embarked|initial|family_size|alone|sex_index|embarked_index|initial_index|\n",
      "+-----------+-----+------+--------------------+------+----+-----+-----+----------------+--------+--------+-------+-----------+-----+---------+--------------+-------------+\n",
      "|         26|    1|     3|Mrs. Carl Oscar (...|female|38.0|    1|    5|          347077| 31.3875|       S|    Mrs|          6|    0|      1.0|           0.0|          2.0|\n",
      "|         29|    1|     3|O'Miss. Ellen \"Ne...|female|22.0|    0|    0|          330959|  7.8792|       Q|   Miss|          0|    1|      1.0|           2.0|          1.0|\n",
      "|        474|    1|     2|Mrs. Amin S (Mari...|female|23.0|    0|    0| SC/AH Basle 541| 13.7917|       C|    Mrs|          0|    1|      1.0|           1.0|          2.0|\n",
      "|         65|    0|     1|        Mr. Albert A|  male|33.0|    0|    0|        PC 17605| 27.7208|       C|     Mr|          0|    1|      0.0|           1.0|          0.0|\n",
      "|        191|    1|     2|         Mrs. (Rosa)|female|32.0|    0|    0|          234604|    13.0|       S|    Mrs|          0|    1|      1.0|           0.0|          2.0|\n",
      "|        418|    1|     2|Miss. Lyyli Karol...|female|18.0|    0|    2|          250652|    13.0|       S|   Miss|          2|    0|      1.0|           0.0|          1.0|\n",
      "|        541|    1|     1|     Miss. Harriet R|female|36.0|    0|    2|       WE/P 5735|    71.0|       S|   Miss|          2|    0|      1.0|           0.0|          1.0|\n",
      "|        558|    0|     1|          Mr. Victor|  male|33.0|    0|    0|        PC 17757| 227.525|       C|     Mr|          0|    1|      0.0|           1.0|          0.0|\n",
      "|        222|    0|     2|         Mr. James H|  male|27.0|    0|    0|          220367|    13.0|       S|     Mr|          0|    1|      0.0|           0.0|          0.0|\n",
      "|        270|    1|     1|        Miss. Amelia|female|35.0|    0|    0|        PC 17760|135.6333|       S|   Miss|          0|    1|      1.0|           0.0|          1.0|\n",
      "|        293|    0|     2|    Mr. Rene Jacques|  male|36.0|    0|    0|   SC/Paris 2163|  12.875|       C|     Mr|          0|    1|      0.0|           1.0|          0.0|\n",
      "|        730|    0|     3|   Miss. Pieta Sofia|female|25.0|    1|    0|STON/O2. 3101271|   7.925|       S|   Miss|          1|    0|      1.0|           0.0|          1.0|\n",
      "|        243|    0|     2|Mr. Reginald Charles|  male|29.0|    0|    0|     W./C. 14263|    10.5|       S|     Mr|          0|    1|      0.0|           0.0|          0.0|\n",
      "|        278|    0|     2| Mr. Francis \"Frank\"|  male|33.0|    0|    0|          239853|     0.0|       S|     Mr|          0|    1|      0.0|           0.0|          0.0|\n",
      "|        367|    1|     1|Mrs. Frank Manley...|female|60.0|    1|    0|          110813|   75.25|       C|    Mrs|          1|    0|      1.0|           1.0|          2.0|\n",
      "|        442|    0|     3|            Mr. Leon|  male|20.0|    0|    0|          345769|     9.5|       S|     Mr|          0|    1|      0.0|           0.0|          0.0|\n",
      "|        705|    0|     3|     Mr. Henrik Juul|  male|26.0|    1|    0|          350025|  7.8542|       S|     Mr|          1|    0|      0.0|           0.0|          0.0|\n",
      "|        720|    0|     3| Mr. Malkolm Joackim|  male|33.0|    0|    0|          347062|   7.775|       S|     Mr|          0|    1|      0.0|           0.0|          0.0|\n",
      "|         19|    0|     3|Vander Mrs. Juliu...|female|31.0|    1|    0|          345763|    18.0|       S|    Mrs|          1|    0|      1.0|           0.0|          2.0|\n",
      "|         54|    1|     2|Mrs. Lizzie (Eliz...|female|29.0|    1|    0|            2926|    26.0|       S|    Mrs|          1|    0|      1.0|           0.0|          2.0|\n",
      "+-----------+-----+------+--------------------+------+----+-----+-----+----------------+--------+--------+-------+-----------+-----+---------+--------------+-------------+\n",
      "only showing top 20 rows"
     ]
    }
   ],
   "source": [
    "indexers = [StringIndexer(inputCol=column, outputCol=column+'_index').fit(titanic_df) for column in ['sex', 'embarked', 'initial']]\n",
    "pipeline = Pipeline(stages=indexers)\n",
    "titanic_df = pipeline.fit(titanic_df).transform(titanic_df)\n",
    "titanic_df.show()"
   ]
  },
  {
   "cell_type": "markdown",
   "metadata": {},
   "source": [
    "##### 3.7.3. 변경된 Schema를 확인합니다."
   ]
  },
  {
   "cell_type": "code",
   "execution_count": 84,
   "metadata": {},
   "outputs": [
    {
     "data": {
      "application/vnd.jupyter.widget-view+json": {
       "model_id": "9bacea2484e745b7ba6d7ff447043df6",
       "version_major": 2,
       "version_minor": 0
      },
      "text/plain": [
       "FloatProgress(value=0.0, bar_style='info', description='Progress:', layout=Layout(height='25px', width='50%'),…"
      ]
     },
     "metadata": {},
     "output_type": "display_data"
    },
    {
     "name": "stdout",
     "output_type": "stream",
     "text": [
      "root\n",
      " |-- passengerid: integer (nullable = true)\n",
      " |-- label: integer (nullable = true)\n",
      " |-- pclass: long (nullable = true)\n",
      " |-- name: string (nullable = true)\n",
      " |-- sex: string (nullable = true)\n",
      " |-- age: double (nullable = true)\n",
      " |-- sibsp: long (nullable = true)\n",
      " |-- parch: long (nullable = true)\n",
      " |-- ticket: string (nullable = true)\n",
      " |-- fare: double (nullable = true)\n",
      " |-- embarked: string (nullable = false)\n",
      " |-- initial: string (nullable = true)\n",
      " |-- family_size: long (nullable = true)\n",
      " |-- alone: integer (nullable = false)\n",
      " |-- sex_index: double (nullable = true)\n",
      " |-- embarked_index: double (nullable = true)\n",
      " |-- initial_index: double (nullable = true)"
     ]
    }
   ],
   "source": [
    "titanic_df.printSchema()"
   ]
  },
  {
   "cell_type": "markdown",
   "metadata": {},
   "source": [
    "#### 3.8. Drop Columns"
   ]
  },
  {
   "cell_type": "markdown",
   "metadata": {},
   "source": [
    "##### 3.8.1. 모델링에서 사용하지 않는 column들은 Drop 하도록 합니다."
   ]
  },
  {
   "cell_type": "code",
   "execution_count": 85,
   "metadata": {},
   "outputs": [
    {
     "data": {
      "application/vnd.jupyter.widget-view+json": {
       "model_id": "752c6043f0184a9e8006030fcfb23eeb",
       "version_major": 2,
       "version_minor": 0
      },
      "text/plain": [
       "FloatProgress(value=0.0, bar_style='info', description='Progress:', layout=Layout(height='25px', width='50%'),…"
      ]
     },
     "metadata": {},
     "output_type": "display_data"
    }
   ],
   "source": [
    "titanic_df = titanic_df.drop('passengerid', 'name', 'ticket', 'cabin', 'embarked', 'sex', 'initial')"
   ]
  },
  {
   "cell_type": "markdown",
   "metadata": {},
   "source": [
    "##### 모델링에 사용할 최종 데이터를 확인합니다."
   ]
  },
  {
   "cell_type": "code",
   "execution_count": 86,
   "metadata": {},
   "outputs": [
    {
     "data": {
      "application/vnd.jupyter.widget-view+json": {
       "model_id": "7c61d33f8a6a428fa0deb80c50c23cf1",
       "version_major": 2,
       "version_minor": 0
      },
      "text/plain": [
       "FloatProgress(value=0.0, bar_style='info', description='Progress:', layout=Layout(height='25px', width='50%'),…"
      ]
     },
     "metadata": {},
     "output_type": "display_data"
    },
    {
     "name": "stdout",
     "output_type": "stream",
     "text": [
      "+-----+------+----+-----+-----+--------+-----------+-----+---------+--------------+-------------+\n",
      "|label|pclass| age|sibsp|parch|    fare|family_size|alone|sex_index|embarked_index|initial_index|\n",
      "+-----+------+----+-----+-----+--------+-----------+-----+---------+--------------+-------------+\n",
      "|    1|     3|38.0|    1|    5| 31.3875|          6|    0|      1.0|           0.0|          2.0|\n",
      "|    1|     3|22.0|    0|    0|  7.8792|          0|    1|      1.0|           2.0|          1.0|\n",
      "|    1|     2|23.0|    0|    0| 13.7917|          0|    1|      1.0|           1.0|          2.0|\n",
      "|    0|     1|33.0|    0|    0| 27.7208|          0|    1|      0.0|           1.0|          0.0|\n",
      "|    1|     2|32.0|    0|    0|    13.0|          0|    1|      1.0|           0.0|          2.0|\n",
      "|    1|     2|18.0|    0|    2|    13.0|          2|    0|      1.0|           0.0|          1.0|\n",
      "|    1|     1|36.0|    0|    2|    71.0|          2|    0|      1.0|           0.0|          1.0|\n",
      "|    0|     1|33.0|    0|    0| 227.525|          0|    1|      0.0|           1.0|          0.0|\n",
      "|    0|     2|27.0|    0|    0|    13.0|          0|    1|      0.0|           0.0|          0.0|\n",
      "|    1|     1|35.0|    0|    0|135.6333|          0|    1|      1.0|           0.0|          1.0|\n",
      "|    0|     2|36.0|    0|    0|  12.875|          0|    1|      0.0|           1.0|          0.0|\n",
      "|    0|     3|25.0|    1|    0|   7.925|          1|    0|      1.0|           0.0|          1.0|\n",
      "|    0|     2|29.0|    0|    0|    10.5|          0|    1|      0.0|           0.0|          0.0|\n",
      "|    0|     2|33.0|    0|    0|     0.0|          0|    1|      0.0|           0.0|          0.0|\n",
      "|    1|     1|60.0|    1|    0|   75.25|          1|    0|      1.0|           1.0|          2.0|\n",
      "|    0|     3|20.0|    0|    0|     9.5|          0|    1|      0.0|           0.0|          0.0|\n",
      "|    0|     3|26.0|    1|    0|  7.8542|          1|    0|      0.0|           0.0|          0.0|\n",
      "|    0|     3|33.0|    0|    0|   7.775|          0|    1|      0.0|           0.0|          0.0|\n",
      "|    0|     3|31.0|    1|    0|    18.0|          1|    0|      1.0|           0.0|          2.0|\n",
      "|    1|     2|29.0|    1|    0|    26.0|          1|    0|      1.0|           0.0|          2.0|\n",
      "+-----+------+----+-----+-----+--------+-----------+-----+---------+--------------+-------------+\n",
      "only showing top 20 rows"
     ]
    }
   ],
   "source": [
    "titanic_df.show()"
   ]
  },
  {
   "cell_type": "markdown",
   "metadata": {},
   "source": [
    "#### 3.9 Prepare Data for Athena, QuickSight and SageMaker"
   ]
  },
  {
   "cell_type": "markdown",
   "metadata": {},
   "source": [
    "##### 3.9.1. 최종데이터를 Athena와 QuickSight에서 확인하기 위해 S3에 저장합니다."
   ]
  },
  {
   "cell_type": "code",
   "execution_count": 87,
   "metadata": {},
   "outputs": [
    {
     "data": {
      "application/vnd.jupyter.widget-view+json": {
       "model_id": "fdb9fdac5f754b77a3282fce52c74ccb",
       "version_major": 2,
       "version_minor": 0
      },
      "text/plain": [
       "FloatProgress(value=0.0, bar_style='info', description='Progress:', layout=Layout(height='25px', width='50%'),…"
      ]
     },
     "metadata": {},
     "output_type": "display_data"
    }
   ],
   "source": [
    "s3_bucket = 's3://analytics-hol-' + S3_BUCKET_POSTFIX\n",
    "(\n",
    "    titanic_df.write\n",
    "        .format('csv')\n",
    "        .mode('overwrite')\n",
    "        .option(\"header\",\"true\")\n",
    "        .save('/'.join([s3_bucket, 'join']))\n",
    ")"
   ]
  },
  {
   "cell_type": "markdown",
   "metadata": {},
   "source": [
    "##### 3.9.2. SageMaker에서 사용할 train, validation, test 데이터를 S3에 저장합니다."
   ]
  },
  {
   "cell_type": "code",
   "execution_count": 88,
   "metadata": {},
   "outputs": [
    {
     "data": {
      "application/vnd.jupyter.widget-view+json": {
       "model_id": "167ec3e837564193925362a6bcd4faf5",
       "version_major": 2,
       "version_minor": 0
      },
      "text/plain": [
       "FloatProgress(value=0.0, bar_style='info', description='Progress:', layout=Layout(height='25px', width='50%'),…"
      ]
     },
     "metadata": {},
     "output_type": "display_data"
    }
   ],
   "source": [
    "train_df, validation_df, test_df = titanic_df.randomSplit([0.6, 0.2, 0.2], 11)\n",
    "\n",
    "(\n",
    "    train_df.repartition(1).write\n",
    "        .format('csv')\n",
    "        .mode('overwrite')\n",
    "        .option(\"header\",\"false\")\n",
    "        .save('/'.join([s3_bucket, 'train']))\n",
    ")\n",
    "(\n",
    "    validation_df.repartition(1).write\n",
    "        .format('csv')\n",
    "        .mode('overwrite')\n",
    "        .option(\"header\",\"false\")\n",
    "        .save('/'.join([s3_bucket, 'validation']))\n",
    ")\n",
    "(\n",
    "    test_df.repartition(1).write\n",
    "        .format('csv')\n",
    "        .mode('overwrite')\n",
    "        .option(\"header\",\"false\")\n",
    "        .save('/'.join([s3_bucket, 'test']))\n",
    ")"
   ]
  },
  {
   "cell_type": "markdown",
   "metadata": {},
   "source": [
    "##### 3.9.3. test file 이름을 나중에 SageMaker에서 사용하기 쉽게 train.csv로 변경합니다."
   ]
  },
  {
   "cell_type": "code",
   "execution_count": null,
   "metadata": {},
   "outputs": [],
   "source": [
    "import boto3\n",
    "\n",
    "session = boto3.Session()\n",
    "s3 = session.resource('s3')\n",
    "s3_bucket_name = 'analytics-hol-' + ACCOUNT_ID\n",
    "bucket = s3.Bucket(s3_bucket_name)\n",
    "\n",
    "for object in bucket.objects.filter(Prefix='test'):\n",
    "    src_key = object.key\n",
    "    \n",
    "    if not src_key.endswith('/'):\n",
    "        prefix, file = src_key.split('/')\n",
    "        dest_file = '/'.join([prefix, 'test.csv'])\n",
    "        source_file = '/'.join([s3_bucket_name, src_key]) \n",
    "        s3.Object(s3_bucket_name, dest_file).copy_from(CopySource=source_file)\n",
    "        s3.Object(s3_bucket_name, src_key).delete()"
   ]
  },
  {
   "cell_type": "markdown",
   "metadata": {},
   "source": [
    "#### 3.10. Put all features into vector"
   ]
  },
  {
   "cell_type": "markdown",
   "metadata": {},
   "source": [
    "##### 3.10.1. 모델에서 해당 feature들을 사용하기 위해서 VectorAssembler를 이용해서 vector화 합니다."
   ]
  },
  {
   "cell_type": "code",
   "execution_count": null,
   "metadata": {},
   "outputs": [],
   "source": [
    "feature = VectorAssembler(inputCols=titanic_df.columns[1:], outputCol='features')\n",
    "feature_vector= feature.transform(titanic_df)"
   ]
  },
  {
   "cell_type": "markdown",
   "metadata": {},
   "source": [
    "##### 3.10.2. features column이 추가된 것을 확인할 수 있습니다."
   ]
  },
  {
   "cell_type": "code",
   "execution_count": null,
   "metadata": {},
   "outputs": [],
   "source": [
    "feature_vector.show()"
   ]
  },
  {
   "cell_type": "markdown",
   "metadata": {},
   "source": [
    "### 4. Modelling"
   ]
  },
  {
   "cell_type": "markdown",
   "metadata": {},
   "source": [
    "#### 4.1. 모델 평가를 위해 train 데이터와 test 데이터를 약 80:20 비율로 준비합니다."
   ]
  },
  {
   "cell_type": "code",
   "execution_count": null,
   "metadata": {},
   "outputs": [],
   "source": [
    "(training_data, test_data) = feature_vector.randomSplit([0.8, 0.2], seed=11)"
   ]
  },
  {
   "cell_type": "markdown",
   "metadata": {},
   "source": [
    "#### 4.2. [LogisticRegression](https://spark.apache.org/docs/latest/ml-classification-regression.html#logistic-regression)\n",
    "##### 분류에 사용하는 모델로 선형 함수 결과를 시그모이드 함수를 이용하여 0 ~ 1 사이로 압축합니다. 이진 분류는 0.5보다 높을 때는 True, 그이하는 Flase로 하여 모델을 학습시킵니다."
   ]
  },
  {
   "cell_type": "code",
   "execution_count": null,
   "metadata": {},
   "outputs": [],
   "source": [
    "from pyspark.ml.classification import LogisticRegression\n",
    "\n",
    "lr = LogisticRegression(labelCol='label', featuresCol='features')\n",
    "pipeline = Pipeline(stages=[lr])\n",
    "lrModel = pipeline.fit(training_data)\n",
    "lr_prediction = lrModel.transform(test_data)\n",
    "lr_prediction.select('prediction', 'label', 'features').show()"
   ]
  },
  {
   "cell_type": "markdown",
   "metadata": {},
   "source": [
    "#### Evaluating accuracy of LogisticRegression."
   ]
  },
  {
   "cell_type": "code",
   "execution_count": null,
   "metadata": {},
   "outputs": [],
   "source": [
    "evaluator = MulticlassClassificationEvaluator(labelCol='label', predictionCol='prediction', metricName='accuracy')\n",
    "lr_accuracy = evaluator.evaluate(lr_prediction)\n",
    "print(\"Accuracy of LogisticRegression is = %g\" % (lr_accuracy))\n",
    "print(\"Test Error of LogisticRegression = %g \" % (1.0 - lr_accuracy))"
   ]
  },
  {
   "cell_type": "markdown",
   "metadata": {},
   "source": [
    "#### 4.3. [DecisionTreeClassifier](https://spark.apache.org/docs/latest/ml-classification-regression.html#decision-tree-classifier)\n",
    "##### 의사결정 규칙(rule)을 트리구조로 도표화하여 분류(classification)와 예측(prediction)을 수행하는 분석방법입니다."
   ]
  },
  {
   "cell_type": "code",
   "execution_count": null,
   "metadata": {},
   "outputs": [],
   "source": [
    "from pyspark.ml.classification import DecisionTreeClassifier\n",
    "\n",
    "dt = DecisionTreeClassifier(labelCol='label', featuresCol='features')\n",
    "pipeline = Pipeline(stages=[dt])\n",
    "dt_model = pipeline.fit(training_data)\n",
    "dt_prediction = dt_model.transform(test_data)\n",
    "dt_prediction.select('prediction', 'label', 'features').show()"
   ]
  },
  {
   "cell_type": "markdown",
   "metadata": {},
   "source": [
    "#### Evaluating accuracy of DecisionTreeClassifier."
   ]
  },
  {
   "cell_type": "code",
   "execution_count": null,
   "metadata": {},
   "outputs": [],
   "source": [
    "dt_accuracy = evaluator.evaluate(dt_prediction)\n",
    "print(\"Accuracy of DecisionTreeClassifier is = %g\" % (dt_accuracy))\n",
    "print(\"Test Error of DecisionTreeClassifier = %g \" % (1.0 - dt_accuracy))"
   ]
  },
  {
   "cell_type": "markdown",
   "metadata": {},
   "source": [
    "#### 4.4. [RandomForestClassifier](https://spark.apache.org/docs/latest/ml-classification-regression.html#random-forest-classifier)\n",
    "##### 분류, 회귀분석 등에 사용되는 앙상블 학습 방법의 일종으로, 훈련 과정에서 구성한 다수의 결정 트리로 부터 분류 또는 평균 예측치(회귀분석)를 출력함으로써 동작합니다."
   ]
  },
  {
   "cell_type": "code",
   "execution_count": null,
   "metadata": {},
   "outputs": [],
   "source": [
    "from pyspark.ml.classification import RandomForestClassifier\n",
    "rf = RandomForestClassifier(labelCol='label', featuresCol='features')\n",
    "pipeline = Pipeline(stages=[rf])\n",
    "rf_model = pipeline.fit(training_data)\n",
    "rf_prediction = rf_model.transform(test_data)\n",
    "rf_prediction.select('prediction', 'label', 'features').show()"
   ]
  },
  {
   "cell_type": "markdown",
   "metadata": {},
   "source": [
    "#### Evaluating accuracy of RandomForestClassifier."
   ]
  },
  {
   "cell_type": "code",
   "execution_count": null,
   "metadata": {},
   "outputs": [],
   "source": [
    "rf_accuracy = evaluator.evaluate(rf_prediction)\n",
    "print(\"Accuracy of RandomForestClassifier is = %g\" % (rf_accuracy))\n",
    "print(\"Test Error of RandomForestClassifier  = %g \" % (1.0 - rf_accuracy))"
   ]
  },
  {
   "cell_type": "markdown",
   "metadata": {},
   "source": [
    "#### 4.5. [Gradient-boosted tree classifier](https://spark.apache.org/docs/latest/ml-classification-regression.html#gradient-boosted-tree-classifier)\n",
    "##### Gradient-Boosted Trees (GBT)는 의사 결정 트리의 앙상블입니다. GBT는 손실 함수를 최소화하기 위해 의사 결정 트리를 반복적으로 훈련시킵니다."
   ]
  },
  {
   "cell_type": "code",
   "execution_count": null,
   "metadata": {},
   "outputs": [],
   "source": [
    "from pyspark.ml.classification import GBTClassifier\n",
    "\n",
    "gbt = GBTClassifier(labelCol='label', featuresCol='features', maxIter=10)\n",
    "pipeline = Pipeline(stages=[gbt])\n",
    "gbt_model = pipeline.fit(training_data)\n",
    "gbt_prediction = gbt_model.transform(test_data)\n",
    "gbt_prediction.select('prediction', 'label', 'features').show()"
   ]
  },
  {
   "cell_type": "markdown",
   "metadata": {},
   "source": [
    "#### Evaluate accuracy of Gradient-boosted."
   ]
  },
  {
   "cell_type": "code",
   "execution_count": null,
   "metadata": {},
   "outputs": [],
   "source": [
    "gbt_accuracy = evaluator.evaluate(gbt_prediction)\n",
    "print(\"Accuracy of Gradient-boosted tree classifie is = %g\" % (gbt_accuracy))\n",
    "print(\"Test Error of Gradient-boosted tree classifie %g\" % (1.0 - gbt_accuracy))"
   ]
  },
  {
   "cell_type": "markdown",
   "metadata": {},
   "source": [
    "#### 4.6. [NaiveBayes](https://spark.apache.org/docs/latest/ml-classification-regression.html#naive-bayes)\n",
    "##### 각 사건 특성들이 독립이라는 가정 하에 베이즈 정리(Bayes’ theorem)을 적용한 간단한 확률 기반 분류입니다."
   ]
  },
  {
   "cell_type": "code",
   "execution_count": null,
   "metadata": {},
   "outputs": [],
   "source": [
    "from pyspark.ml.classification import NaiveBayes\n",
    "\n",
    "nb = NaiveBayes(labelCol='label', featuresCol='features')\n",
    "pipeline = Pipeline(stages=[nb])\n",
    "nb_model = pipeline.fit(training_data)\n",
    "nb_prediction = nb_model.transform(test_data)\n",
    "nb_prediction.select('prediction', 'label', 'features').show()"
   ]
  },
  {
   "cell_type": "markdown",
   "metadata": {},
   "source": [
    "#### Evaluating accuracy of NaiveBayes."
   ]
  },
  {
   "cell_type": "code",
   "execution_count": null,
   "metadata": {},
   "outputs": [],
   "source": [
    "nb_accuracy = evaluator.evaluate(nb_prediction)\n",
    "print(\"Accuracy of NaiveBayes is  = %g\" % (nb_accuracy))\n",
    "print(\"Test Error of NaiveBayes  = %g \" % (1.0 - nb_accuracy))"
   ]
  },
  {
   "cell_type": "markdown",
   "metadata": {},
   "source": [
    "#### 4.7. Result"
   ]
  },
  {
   "cell_type": "markdown",
   "metadata": {},
   "source": [
    "##### 위 테스트에서는 LogisticRegression과 Support Vector Machine이 83.6257%의 정확도로 가장 좋은 성능을 보여주었습니다.\n",
    "##### 하지만, 아직 기본적인 테스트만 수행하였으므로 개선할 여지가 많이 남아있습니다."
   ]
  },
  {
   "cell_type": "markdown",
   "metadata": {},
   "source": [
    "### 5. Create your own model\n",
    "#### 지금까지 다뤘던 기본적인 Feature engineering과 Modeling만으로 85.7%의 비교적 높은 정확도를 얻을 수 있었습니다. \n",
    "#### kaggle titanic competition에서 test 데이터에 대해서도 같은 정확도를 유지한다면 전체 10000명 중 상위 200등에 해당하는 높은 수치입니다. 하지만, 아직 개선할 여지가 많이 남아있습니다.\n",
    "#### * 첫 번째 접근할 수 있는 방법으로는 새로운 feacure를 추가하거나 기존 feature를 모델에서 제외하는 것입니다.\n",
    "#### * 두 번째 방법은 ML algorithm을 튜닝하는 것으로 아래 페이지를 참고하시면 됩니다.\n",
    "(https://spark.apache.org/docs/latest/ml-tuning.html) "
   ]
  }
 ],
 "metadata": {
  "kernelspec": {
   "display_name": "Sparkmagic (PySpark)",
   "language": "",
   "name": "pysparkkernel"
  },
  "language_info": {
   "codemirror_mode": {
    "name": "python",
    "version": 2
   },
   "mimetype": "text/x-python",
   "name": "pyspark",
   "pygments_lexer": "python2"
  },
  "name": "01-kaggle-titanic-pyspark",
  "notebookId": 981946993289991
 },
 "nbformat": 4,
 "nbformat_minor": 4
}
