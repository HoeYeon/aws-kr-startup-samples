{
 "cells": [
  {
   "cell_type": "markdown",
   "id": "3ee7db79-a92b-4ddd-a750-3dc690594bab",
   "metadata": {},
   "source": [
    "# Run DeepSeek-R1-Distill-Llama-8B efficient on Amazon SageMaker AI with SGLang\n",
    "\n",
    "❗This notebook works well on `ml.m5.xlarge` instance with 50GB of disk size and `PyTorch 2.2.0 Python 3.10 CPU optimized kernel` from **SageMaker Studio Classic** or `Python3 kernel` from **JupyterLab**.\n",
    "\n",
    "This notebook has been rewritten based on [sagemaker-genai-hosting-examples/Deepseek/SGLang-Deepseek/deepseek-r1-llama-70b-sglang.ipynb](https://github.com/aws-samples/sagemaker-genai-hosting-examples/blob/main/Deepseek/SGLang-Deepseek/deepseek-r1-llama-70b-sglang.ipynb)\n",
    "\n",
    "Note that SageMaker provides [pre-built SageMaker AI Docker images](https://docs.aws.amazon.com/sagemaker/latest/dg/pre-built-containers-frameworks-deep-learning.html) that can help you quickly start with the model inference on SageMaker. It also allows you to [bring your own Docker container](https://docs.aws.amazon.com/sagemaker/latest/dg/adapt-inference-container.html) and use it inside SageMaker AI for training and inference. To be compatible with SageMaker AI, your container must have the following characteristics:\n",
    "\n",
    "- Your container must have a web server listening on port `8080`.\n",
    "- Your container must accept POST requests to the `/invocations` and `/ping` real-time endpoints.\n",
    "\n",
    "In this notebook, we'll demonstrate how to adapt the [SGLang](https://github.com/sgl-project/sglang) framework to run on SageMaker AI endpoints. SGLang is a serving framework for large language models that provides state-of-the-art performance, including a fast backend runtime for efficient serving with RadixAttention, extensive model support, and an active open-source community. For more information refer to [https://docs.sglang.ai/index.html](https://docs.sglang.ai/index.html) and [https://github.com/sgl-project/sglang](https://github.com/sgl-project/sglang).\n",
    "\n",
    "By using SGLang and building a custom Docker container, you can run advanced AI models like the [DeepSeek-R1-Distill-Llama-8B](https://huggingface.co/deepseek-ai/DeepSeek-R1-Distill-Llama-8B) on a SageMaker AI endpoint."
   ]
  },
  {
   "cell_type": "markdown",
   "id": "6202a132-8b77-49c7-8ca3-82225b55e01f",
   "metadata": {},
   "source": [
    "### Set up Environment"
   ]
  },
  {
   "cell_type": "code",
   "execution_count": null,
   "id": "ae5e47d1-02d4-4a8e-b0b7-3cd6a2dc6b41",
   "metadata": {},
   "outputs": [],
   "source": [
    "%%capture --no-stderr\n",
    "\n",
    "!pip install -U \"sagemaker>=2.237.1\""
   ]
  },
  {
   "cell_type": "markdown",
   "id": "1cffc7c2-7007-483c-b6b1-04688f258e03",
   "metadata": {},
   "source": [
    "### Create a Predictor with SageMaker Endpoint name"
   ]
  },
  {
   "cell_type": "code",
   "execution_count": null,
   "id": "b2297520-26a6-4843-a16e-87a548ab7c7c",
   "metadata": {},
   "outputs": [],
   "source": [
    "import boto3\n",
    "\n",
    "region = boto3.Session().region_name\n",
    "region"
   ]
  },
  {
   "cell_type": "code",
   "execution_count": null,
   "id": "2f2aa59a-aac5-4095-8b1a-c6d12f692585",
   "metadata": {},
   "outputs": [],
   "source": [
    "import boto3\n",
    "from typing import List\n",
    "\n",
    "\n",
    "def get_cfn_outputs(stackname: str, region_name: str='us-east-1') -> List:\n",
    "    cfn = boto3.client('cloudformation', region_name=region_name)\n",
    "    outputs = {}\n",
    "    for output in cfn.describe_stacks(StackName=stackname)['Stacks'][0]['Outputs']:\n",
    "        outputs[output['OutputKey']] = output['OutputValue']\n",
    "    return outputs"
   ]
  },
  {
   "cell_type": "code",
   "execution_count": null,
   "id": "a77c4f47-2fdb-4b30-8cfb-ed2bbd81d3ad",
   "metadata": {},
   "outputs": [],
   "source": [
    "CFN_STACK_NAME = \"DeepSeekR1SGLangEndpointStack\"\n",
    "cfn_stack_outputs = get_cfn_outputs(CFN_STACK_NAME, region)\n",
    "\n",
    "endpoint_name = cfn_stack_outputs['EndpointName']\n",
    "model_name = cfn_stack_outputs['ModelName']\n",
    "\n",
    "model_name, endpoint_name"
   ]
  },
  {
   "cell_type": "code",
   "execution_count": null,
   "id": "c027e301-1380-474f-a8b3-19e115a41995",
   "metadata": {},
   "outputs": [],
   "source": [
    "from sagemaker import Predictor\n",
    "from sagemaker.serializers import JSONSerializer\n",
    "from sagemaker.deserializers import JSONDeserializer\n",
    "\n",
    "\n",
    "predictor = Predictor(\n",
    "    endpoint_name=endpoint_name,\n",
    "    serializer=JSONSerializer(),\n",
    "    deserializer=JSONDeserializer()\n",
    ")"
   ]
  },
  {
   "cell_type": "markdown",
   "id": "9bebe866-0949-45d3-821c-f553ea182c82",
   "metadata": {},
   "source": [
    "### Invoke endpoint with SageMaker Python SDK"
   ]
  },
  {
   "cell_type": "code",
   "execution_count": null,
   "id": "eda45f88-007d-44b1-8295-38ba6187faa9",
   "metadata": {},
   "outputs": [
    {
     "name": "stdout",
     "output_type": "stream",
     "text": [
      "<think>\n",
      "Okay, so I need to list three countries and their capitals. Hmm, let me think about how to approach this. First, I should probably pick countries that I'm somewhat familiar with. Maybe I can start with some nearby ones or ones I've heard about in the news.\n",
      "\n",
      "Let me consider the United States. I know their capital is Washington, D.C. That's a good one. Now, where else? Maybe a European country. France's capital is Paris, right? That's a major city I've heard of. Okay, so that's two down.\n",
      "\n",
      "Now, for the third country, I should pick one that's a bit different. Maybe an Asian country. Japan comes to mind. I believe their capital is Tokyo. Yeah, that sounds right. I've heard Tokyo mentioned a lot in the context of Japan's government.\n",
      "\n",
      "Wait, let me double-check to make sure I'm not mixing up capitals. Sometimes I get confused between countries that have similar-sounding names. For example, I know that Germany's capital is Berlin, but I didn't list that. And I'm pretty sure the UK's capital is London, but that's not on my list either. So, sticking with the three I have: USA, France, Japan.\n",
      "\n",
      "Just to be thorough, I'll think about each one again. USA: Washington, D.C. – yes, that's correct. France: Paris – definitely. Japan: Tokyo – yes, that's their capital. I don't think I made any mistakes there. I don't recall any other major capitals that I should include instead, but these three seem solid.\n",
      "\n",
      "I wonder if there's a better way to verify this. Maybe I can think of other countries I know. For example, Germany's capital is Berlin, as I thought earlier. China's capital is Beijing. But since I only need three, I think I'm okay. Maybe I can also think about countries in Africa or South America, but I'm not as sure about their capitals. For instance, Brazil's capital is Brasília, but I'm not 100% certain. I think I'll stick with the ones I'm more confident about.\n",
      "\n",
      "Another thought: sometimes countries have multiple capitals or the capital isn't the largest city, but I think for the purpose of this question, the standard capitals are what's expected. So, I think I'm good with the three I have. USA, France, Japan with capitals Washington, D.C., Paris, and Tokyo.\n",
      "</think>\n",
      "\n",
      "Here are three countries along with their capitals:\n",
      "\n",
      "1. **United States**: Washington, D.C.\n",
      "2. **France**: Paris\n",
      "3. **Japan**: Tokyo\n",
      "\n",
      "These capitals are well-known and widely recognized, ensuring accuracy for the given information.\n"
     ]
    }
   ],
   "source": [
    "response = predictor.predict({\n",
    "    'model':'mymodel',\n",
    "    'messages':[\n",
    "        {\"role\": \"user\", \"content\": \"List 3 countries and their capitals.\"},\n",
    "    ],\n",
    "    'temperature': 0,\n",
    "    'max_tokens': 1000,\n",
    "    'top_logprobs': 2,\n",
    "    'logprobs': True\n",
    "})\n",
    "\n",
    "print(response['choices'][0]['message']['content'])"
   ]
  },
  {
   "cell_type": "markdown",
   "id": "5929159f-d6a1-4591-b1e3-e8cc1824c59d",
   "metadata": {},
   "source": [
    "### Streaming response from the endpoint\n",
    "\n",
    "Additionally, SGLang allows you to invoke the endpoint and receive streaming response. Below is an example of how to interact with the endpoint with streaming response."
   ]
  },
  {
   "cell_type": "code",
   "execution_count": null,
   "id": "5a284126-97fb-401d-9533-caae4f3441c0",
   "metadata": {},
   "outputs": [],
   "source": [
    "import io\n",
    "import json\n",
    "from sagemaker.iterators import BaseIterator\n",
    "from sagemaker.iterators import handle_stream_errors\n",
    "\n",
    "\n",
    "class TokenIterator(BaseIterator):\n",
    "    def __init__(self, event_stream):\n",
    "        super().__init__(event_stream)\n",
    "        self.byte_iterator = iter(self.event_stream)\n",
    "        self.buffer = io.BytesIO()\n",
    "        self.read_pos = 0\n",
    "\n",
    "    def __iter__(self):\n",
    "        return self\n",
    "\n",
    "    def __next__(self):\n",
    "        r\"\"\"Returns the next Line for an Line iterable.\n",
    "\n",
    "        The output of the event stream will be in the following format:\n",
    "\n",
    "        ```\n",
    "        b'data: {\"id\":\"2d81e745f32e46879c2e6bf28171570f\",\"object\":\"chat.completion.chunk\",\"created\":1742104124,\"model\":\"mymodel\",\"choices\":[{\"index\":0,\"delta\":{\"role\":\"assistant\",\"content\":\"\",\"reasoning_content\":null,\"tool_calls\":null},\"logprobs\":null,\"finish_reason\":null,\"matched_stop\":null}'\n",
    "        ...\n",
    "        b'bf28171570f\",\"object\":\"chat.completion.chunk\",\"created\":1742104141,\"model\":\"mymodel\",\"choices\":[],\"usage\":{\"prompt_tokens\":11,\"total_tokens\":523,\"completion_tokens\":512}}\\n\\n'\n",
    "        b'data: [DONE]\\n\\n'\n",
    "        ```\n",
    "\n",
    "        While usually each PayloadPart event from the event stream will contain a byte array\n",
    "        with a full json, this is not guaranteed and some of the json objects may be split across\n",
    "        PayloadPart events. For example:\n",
    "        ```\n",
    "        {'PayloadPart': {'Bytes': b'data: {\"id\":\"1f7cb39ac2e24f6187305bdb20fc0002\",'}\n",
    "        {'PayloadPart': {'Bytes': b'\"object\":\"chat.completion.chunk\",'}\n",
    "        ...\n",
    "        {'PayloadPart': {'Bytes': b'}\\n\\n'}\n",
    "        ```\n",
    "\n",
    "        This class accounts for this by concatenating bytes written via the 'write' function\n",
    "        and then exposing a method which will return lines (ending with a '\\n' character) within\n",
    "        the buffer via the 'scan_lines' function. It maintains the position of the last read\n",
    "        position to ensure that previous bytes are not exposed again.\n",
    "\n",
    "        Returns:\n",
    "            str: Read and return one line from the event stream.\n",
    "        \"\"\"\n",
    "        while True:\n",
    "            self.buffer.seek(self.read_pos)\n",
    "            line = self.buffer.readline()\n",
    "            if line and line[-1] == ord(\"\\n\"):\n",
    "                self.read_pos += len(line)\n",
    "                full_line = line[:-1].decode('utf-8')\n",
    "                if full_line.startswith(\"data:\"):\n",
    "                    try:\n",
    "                        json_line = json.loads(full_line.lstrip(\"data:\").rstrip(\"\\n\"))\n",
    "                    except Exception as _:\n",
    "                        json_line = {}\n",
    "                    part = json_line.get('choices')[0]['delta']['content'] if json_line.get('choices') else \"\"\n",
    "                    return part\n",
    "            try:\n",
    "                chunk = next(self.byte_iterator)\n",
    "            except StopIteration:\n",
    "                if self.read_pos < self.buffer.getbuffer().nbytes:\n",
    "                    continue\n",
    "                raise\n",
    "            if \"PayloadPart\" not in chunk:\n",
    "                # handle API response errors and force terminate.\n",
    "                handle_stream_errors(chunk)\n",
    "                # print and move on to next response byte\n",
    "                print(\"Unknown event type:\" + chunk)\n",
    "                continue\n",
    "            self.buffer.seek(0, io.SEEK_END)\n",
    "            self.buffer.write(chunk[\"PayloadPart\"][\"Bytes\"])"
   ]
  },
  {
   "cell_type": "code",
   "execution_count": null,
   "id": "8d88d234-dede-4f18-be07-28751c062bbd",
   "metadata": {},
   "outputs": [
    {
     "name": "stdout",
     "output_type": "stream",
     "text": [
      "<think>\n",
      "Okay, so I need to list three countries and their capitals. Hmm, let me think about how to approach this. First, I should probably pick countries that I'm somewhat familiar with. Maybe I can start with some nearby ones or ones I've heard about in the news.\n",
      "\n",
      "Let me consider the United States. I know their capital is Washington, D.C. That's a good one. Now, where else? Maybe a European country. France's capital is Paris, right? That's a major city I've heard of. Okay, so that's two down.\n",
      "\n",
      "Now, for the third country, I should pick one that's a bit different. Maybe an Asian country. Japan comes to mind. I believe their capital is Tokyo. Yeah, that sounds right. I've heard Tokyo mentioned a lot in the context of Japan's government.\n",
      "\n",
      "Wait, let me double-check to make sure I'm not mixing up capitals. Sometimes I get confused between countries that have similar-sounding names. For example, I know that Germany's capital is Berlin, but I didn't list that. And I'm pretty sure the UK's capital is London, but that's not on my list either. So, sticking with the three I have: USA, France, Japan.\n",
      "\n",
      "Just to be thorough, I'll think about each one again. USA: Washington, D.C. – yes, that's correct. France: Paris – definitely. Japan: Tokyo – yes, that's their capital. I don't think I made any mistakes there. I don't recall any other major capitals that I should include instead, but these three seem solid.\n",
      "\n",
      "I wonder if there's a better way to verify this. Maybe I can think of other countries I know. For example, Germany's capital is Berlin, as I thought earlier. China's capital is Beijing. But since I only need three, I think I'm okay. Maybe I can also think about countries in Africa or South America, but I'm not as sure about their capitals. For instance, Brazil's capital is Brasília, but I'm not 100% certain. I think I'll stick with the ones I'm more confident about.\n",
      "\n",
      "Another thought: sometimes countries have multiple capitals or the capital isn't the largest city, but I think for the purpose of this question, the standard capitals are what's expected. So, I think I'm good with the three I have. USA, France, Japan with capitals Washington, D.C., Paris, and Tokyo.\n",
      "</think>\n",
      "\n",
      "Here are three countries along with their capitals:\n",
      "\n",
      "1. **United States**: Washington, D.C.\n",
      "2. **France**: Paris\n",
      "3. **Japan**: Tokyo\n",
      "\n",
      "These capitals are well-known and widely recognized, ensuring accuracy for the given information."
     ]
    }
   ],
   "source": [
    "payload = {\n",
    "    'model':'mymodel',\n",
    "    'messages':[\n",
    "        {\"role\": \"user\", \"content\": \"List 3 countries and their capitals.\"},\n",
    "    ],\n",
    "    'temperature': 0,\n",
    "    'max_tokens': 1000,\n",
    "    'top_logprobs': 2,\n",
    "    'logprobs': True,\n",
    "    'stream': True,\n",
    "    # 'stream_options': {'include_usage': True}\n",
    "}\n",
    "\n",
    "response_stream = predictor.predict_stream(\n",
    "    data=payload,\n",
    "    iterator=TokenIterator,\n",
    ")\n",
    "\n",
    "for token in response_stream:\n",
    "    print(token, end=\"\", flush=True)"
   ]
  },
  {
   "cell_type": "markdown",
   "id": "35a4b2d3-906e-472a-8fe4-538a05d0650f",
   "metadata": {},
   "source": [
    "### Invoke endpoint with boto3\n",
    "\n",
    "Note that you can also invoke the endpoint with boto3. If you have an existing endpoint, you don't need to recreate the predictor and can follow below example to invoke the endpoint with an endpoint name."
   ]
  },
  {
   "cell_type": "code",
   "execution_count": null,
   "id": "1e207810-41ba-4da2-a9fb-02d0e22f83e9",
   "metadata": {},
   "outputs": [
    {
     "name": "stdout",
     "output_type": "stream",
     "text": [
      "<think>\n",
      "Okay, so I need to list three countries and their capitals. Hmm, let me think about how to approach this. First, I should probably pick countries that I'm somewhat familiar with. Maybe I can start with some nearby ones or ones I've heard about in the news.\n",
      "\n",
      "Let me consider the United States. I know their capital is Washington, D.C. That's a good one. Now, where else? Maybe a European country. France's capital is Paris, right? That's a major city I've heard of. Okay, so that's two down.\n",
      "\n",
      "Now, for the third country, I should pick one that's a bit different. Maybe an Asian country. Japan comes to mind. I believe their capital is Tokyo. Yeah, that sounds right. I've heard Tokyo mentioned a lot in the context of Japan's government.\n",
      "\n",
      "Wait, let me double-check to make sure I'm not mixing up capitals. Sometimes I get confused between countries that have similar-sounding names. For example, I know that Germany's capital is Berlin, but I didn't list that. And I'm pretty sure the UK's capital is London, but that's not on my list either. So, sticking with the three I have: USA, France, Japan.\n",
      "\n",
      "Just to be thorough, I'll think about each one again. USA: Washington, D.C. – yes, that's correct. France: Paris – definitely. Japan: Tokyo – yes, that's their capital. I don't think I made any mistakes there. I don't recall any other major capitals that I should include instead, but these three seem solid.\n",
      "\n",
      "I wonder if there's a better way to verify this. Maybe I can think of other countries I know. For example, Germany's capital is Berlin, as I thought earlier. China's capital is Beijing. But since I only need three, I think I'm okay. Maybe I can also think about countries in Africa or South America, but I'm not as sure about their capitals. For instance, Brazil's capital is Brasília, but I'm not 100% certain. I think I'll stick with the ones I'm more confident about.\n",
      "\n",
      "Another thought: sometimes countries have multiple capitals or the capital isn't the largest city, but I think for the purpose of this question, the standard capitals are what's expected. So, I think I'm good with the three I have. USA, France, Japan with capitals Washington, D.C., Paris, and Tokyo.\n",
      "</think>\n",
      "\n",
      "Here are three countries along with their capitals:\n",
      "\n",
      "1. **United States**: Washington, D.C.\n",
      "2. **France**: Paris\n",
      "3. **Japan**: Tokyo\n",
      "\n",
      "These capitals are well-known and widely recognized, ensuring accuracy for the given information.\n"
     ]
    }
   ],
   "source": [
    "import boto3\n",
    "import json\n",
    "\n",
    "sagemaker_runtime = boto3.client('sagemaker-runtime', region_name=region)\n",
    "endpoint_name = predictor.endpoint_name # you can manually set the endpoint name with an existing endpoint\n",
    "\n",
    "prompt = {\n",
    "    'model':'mymodel',\n",
    "    'messages':[\n",
    "        {\"role\": \"user\", \"content\": \"List 3 countries and their capitals.\"},\n",
    "    ],\n",
    "    'temperature': 0,\n",
    "    'max_tokens': 1000,\n",
    "}\n",
    "\n",
    "response = sagemaker_runtime.invoke_endpoint(\n",
    "    EndpointName=endpoint_name,\n",
    "    ContentType=\"application/json\",\n",
    "    Body=json.dumps(prompt)\n",
    ")\n",
    "\n",
    "response_dict = json.loads(response['Body'].read().decode(\"utf-8\"))\n",
    "response_content = response_dict['choices'][0]['message']['content']\n",
    "print(response_content)"
   ]
  },
  {
   "cell_type": "markdown",
   "id": "c97de446-b06b-4f04-8668-fc1dae171f45",
   "metadata": {},
   "source": [
    "### Streaming response from the endpoint with boto3"
   ]
  },
  {
   "cell_type": "code",
   "execution_count": null,
   "id": "1c8ad85f-eca3-406d-87de-0e53ec1ec694",
   "metadata": {},
   "outputs": [
    {
     "name": "stdout",
     "output_type": "stream",
     "text": [
      "<think>\n",
      "Okay, so I need to list three countries and their capitals. Hmm, let me think about how to approach this. First, I should probably pick countries that I'm somewhat familiar with. Maybe I can start with some nearby ones or ones I've heard about in the news.\n",
      "\n",
      "Let me consider the United States. I know their capital is Washington, D.C. That's a good one. Now, where else? Maybe a European country. France's capital is Paris, right? That's a major city I've heard of. Okay, so that's two down.\n",
      "\n",
      "Now, for the third country, I should pick one that's a bit different. Maybe an Asian country. Japan comes to mind. I believe their capital is Tokyo. Yeah, that sounds right. I've heard Tokyo mentioned a lot in the context of Japan's government.\n",
      "\n",
      "Wait, let me double-check to make sure I'm not mixing up capitals. Sometimes I get confused between countries that have similar-sounding names. For example, I know that Germany's capital is Berlin, but I didn't list that. And I'm pretty sure the UK's capital is London, but that's not on my list either. So, sticking with the three I have: USA, France, Japan.\n",
      "\n",
      "Just to be thorough, I'll think about each one again. USA: Washington, D.C. – yes, that's correct. France: Paris – definitely. Japan: Tokyo – yes, that's their capital. I don't think I made any mistakes there. I don't recall any other major capitals that I should include instead, but these three seem solid.\n",
      "\n",
      "I wonder if there's a better way to verify this. Maybe I can think of other countries I know. For example, Germany's capital is Berlin, as I thought earlier. China's capital is Beijing. But since I only need three, I think I'm okay. Maybe I can also think about countries in Africa or South America, but I'm not as sure about their capitals. For instance, Brazil's capital is Brasília, but I'm not 100% certain. I think I'll stick with the ones I'm more confident about.\n",
      "\n",
      "Another thought: sometimes countries have multiple capitals or the capital isn't the largest city, but I think for the purpose of this question, the standard capitals are what's expected. So, I think I'm good with the three I have. USA, France, Japan with capitals Washington, D.C., Paris, and Tokyo.\n",
      "</think>\n",
      "\n",
      "Here are three countries along with their capitals:\n",
      "\n",
      "1. **United States**: Washington, D.C.\n",
      "2. **France**: Paris\n",
      "3. **Japan**: Tokyo\n",
      "\n",
      "These capitals are well-known and widely recognized, ensuring accuracy for the given information."
     ]
    }
   ],
   "source": [
    "request_body = {\n",
    "    'model':'mymodel',\n",
    "    'messages':[\n",
    "        {\"role\": \"user\", \"content\": \"List 3 countries and their capitals.\"},\n",
    "    ],\n",
    "    'temperature': 0,\n",
    "    'max_tokens': 1000,\n",
    "    'top_logprobs': 2,\n",
    "    'logprobs': True,\n",
    "    'stream': True,\n",
    "    # 'stream_options': {'include_usage': True}\n",
    "}\n",
    "\n",
    "response = sagemaker_runtime.invoke_endpoint_with_response_stream(\n",
    "    EndpointName=endpoint_name,\n",
    "    Body=json.dumps(request_body),\n",
    "    ContentType=\"application/json\"\n",
    ")\n",
    "\n",
    "# Gets the EventStream object returned by the SDK:\n",
    "response_stream = TokenIterator(response['Body'])\n",
    "for token in response_stream:\n",
    "    print(token, end=\"\", flush=True)"
   ]
  },
  {
   "cell_type": "markdown",
   "id": "344b7652-4782-4cef-8146-b5cee94b1b82",
   "metadata": {},
   "source": [
    "### Clean up the environment\n",
    "\n",
    "Make sure to delete the endpoint and other artifacts that were created to avoid unnecessary cost. You can also go to SageMaker AI console to delete all the resources created in this example."
   ]
  },
  {
   "cell_type": "code",
   "execution_count": null,
   "id": "16c59f49-455e-40f2-832b-a67fd4d3d722",
   "metadata": {},
   "outputs": [],
   "source": [
    "predictor.delete_model()\n",
    "predictor.delete_endpoint()"
   ]
  },
  {
   "cell_type": "markdown",
   "id": "e5613d41-18bf-46b9-b401-a6d7a45c6ef6",
   "metadata": {},
   "source": [
    "### References\n",
    "\n",
    "- [DeepSeek-R1 Model Card](https://huggingface.co/deepseek-ai/DeepSeek-R1#usage-recommendations)\n",
    "- [sagemaker-genai-hosting-examples/Deepseek/SGLang-Deepseek/deepseek-r1-llama-70b-sglang.ipynb](https://github.com/aws-samples/sagemaker-genai-hosting-examples/blob/main/Deepseek/SGLang-Deepseek/deepseek-r1-llama-70b-sglang.ipynb)"
   ]
  }
 ],
 "metadata": {
  "kernelspec": {
   "display_name": "Python 3 (ipykernel)",
   "language": "python",
   "name": "python3"
  },
  "language_info": {
   "codemirror_mode": {
    "name": "ipython",
    "version": 3
   },
   "file_extension": ".py",
   "mimetype": "text/x-python",
   "name": "python",
   "nbconvert_exporter": "python",
   "pygments_lexer": "ipython3",
   "version": "3.11.10"
  }
 },
 "nbformat": 4,
 "nbformat_minor": 5
}
