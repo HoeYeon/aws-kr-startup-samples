{
 "cells": [
  {
   "cell_type": "markdown",
   "id": "042ef63b-53c6-4a06-9472-d67f10e4492a",
   "metadata": {},
   "source": [
    "# Run Qwen2.5-VL-32B-Instruct on Amazon SageMaker AI with SGLang\n",
    "\n",
    "❗This notebook works well on `ml.g5.xlarge` instance with 100GB of disk size and `PyTorch 2.2.0 Python 3.10 CPU optimized kernel` from **SageMaker Studio Classic** or `Python3 kernel` from **JupyterLab**\n",
    "\n",
    "Note that SageMaker provides [pre-built SageMaker AI Docker images](https://docs.aws.amazon.com/sagemaker/latest/dg/pre-built-containers-frameworks-deep-learning.html) that can help you quickly start with the model inference on SageMaker. It also allows you to [bring your own Docker container](https://docs.aws.amazon.com/sagemaker/latest/dg/adapt-inference-container.html) and use it inside SageMaker AI for training and inference. To be compatible with SageMaker AI, your container must have the following characteristics:\n",
    "\n",
    "- Your container must have a web server listening on port `8080`.\n",
    "- Your container must accept POST requests to the `/invocations` and `/ping` real-time endpoints.\n",
    "\n",
    "In this notebook, we'll demonstrate how to adapt the [SGLang](https://github.com/sgl-project/sglang) framework to run on SageMaker AI endpoints. SGLang is a serving framework for large language models that provides state-of-the-art performance, including a fast backend runtime for efficient serving with RadixAttention, extensive model support, and an active open-source community. For more information refer to [https://docs.sglang.ai/index.html](https://docs.sglang.ai/index.html) and [https://github.com/sgl-project/sglang](https://github.com/sgl-project/sglang).\n",
    "\n",
    "By using SGLang and building a custom Docker container, you can run advanced AI models like the [Qwen2.5-VL-32B-Instruct](https://huggingface.co/Qwen/Qwen2.5-VL-32B-Instruct)  model on a SageMaker AI endpoint."
   ]
  },
  {
   "cell_type": "markdown",
   "id": "07b8e842-d05f-4bce-9257-ab3d0b73b1c6",
   "metadata": {},
   "source": [
    "### Set up Environment"
   ]
  },
  {
   "cell_type": "code",
   "execution_count": null,
   "id": "c0f92157-aef1-4539-bba9-824f96fc5c16",
   "metadata": {},
   "outputs": [],
   "source": [
    "%%capture --no-stderr\n",
    "\n",
    "!pip install -U pip\n",
    "!pip install -U \"sagemaker>=2.237.3\""
   ]
  },
  {
   "cell_type": "markdown",
   "id": "41634a66-5da5-4003-b924-4ccb8fa34075",
   "metadata": {},
   "source": [
    "### Create SageMaker AI endpoint for Qwen2.5-VL-32B model"
   ]
  },
  {
   "cell_type": "code",
   "execution_count": null,
   "id": "4953e9ab-ebf0-4d1a-82c8-c6c924ac9339",
   "metadata": {},
   "outputs": [],
   "source": [
    "import boto3\n",
    "\n",
    "region = boto3.Session().region_name\n",
    "region"
   ]
  },
  {
   "cell_type": "code",
   "execution_count": null,
   "id": "6b84ec2e-059d-4a46-a0bd-1d84b517e11e",
   "metadata": {
    "scrolled": true
   },
   "outputs": [],
   "source": [
    "import boto3\n",
    "from typing import List\n",
    "\n",
    "\n",
    "def get_cfn_outputs(stackname: str, region_name: str='us-east-1') -> List:\n",
    "    cfn = boto3.client('cloudformation', region_name=region_name)\n",
    "    outputs = {}\n",
    "    for output in cfn.describe_stacks(StackName=stackname)['Stacks'][0]['Outputs']:\n",
    "        outputs[output['OutputKey']] = output['OutputValue']\n",
    "    return outputs"
   ]
  },
  {
   "cell_type": "code",
   "execution_count": null,
   "id": "8b9603e4-cb0d-42ed-8f41-2c2cf3b64a33",
   "metadata": {},
   "outputs": [],
   "source": [
    "CFN_STACK_NAME = \"QwenVLSGLangRealtimeEndpointStack\"\n",
    "cfn_stack_outputs = get_cfn_outputs(CFN_STACK_NAME, region)\n",
    "\n",
    "endpoint_name = cfn_stack_outputs['EndpointName']\n",
    "model_name = cfn_stack_outputs['ModelName']\n",
    "\n",
    "model_name, endpoint_name"
   ]
  },
  {
   "cell_type": "code",
   "execution_count": null,
   "id": "7eb522ca-39e0-4c89-a2e4-6f08e192708c",
   "metadata": {},
   "outputs": [],
   "source": [
    "from sagemaker import Predictor\n",
    "from sagemaker.serializers import JSONSerializer\n",
    "from sagemaker.deserializers import JSONDeserializer\n",
    "\n",
    "\n",
    "predictor = Predictor(\n",
    "    endpoint_name=endpoint_name,\n",
    "    serializer=JSONSerializer(),\n",
    "    deserializer=JSONDeserializer()\n",
    ")"
   ]
  },
  {
   "cell_type": "markdown",
   "id": "51008c65-7ae7-419a-b0de-84650d214cdd",
   "metadata": {},
   "source": [
    "### Invoke endpoint with SageMaker Python SDK"
   ]
  },
  {
   "cell_type": "code",
   "execution_count": null,
   "id": "8befcb97-418c-4d48-b07a-064f966084fd",
   "metadata": {},
   "outputs": [
    {
     "name": "stdout",
     "output_type": "stream",
     "text": [
      "This image captures a heartwarming and serene moment between a woman and her dog on a sandy beach during what appears to be sunset. Here are the key details:\n",
      "\n",
      "### **Setting:**\n",
      "- **Location:** The scene takes place on a beach with soft sand, gentle waves, and a calm ocean in the background.\n",
      "- **Lighting:** The lighting suggests it is either sunrise or sunset, with warm, golden sunlight casting a soft glow on the scene. The sun is low in the sky, creating a warm, peaceful ambiance.\n",
      "\n",
      "### **Subjects:**\n",
      "1. **Woman:**\n",
      "   - She is sitting on the sand with her legs crossed.\n",
      "   - She is wearing a plaid shirt and rolled-up jeans, giving a casual and comfortable look.\n",
      "   - Her hair is long and dark, and she appears to be smiling warmly.\n",
      "   - She is interacting with the dog, holding its paw in her hand, creating a moment of connection.\n",
      "\n",
      "2. **Dog:**\n",
      "   - The dog appears to be a light-colored Labrador Retriever, sitting calmly on the sand.\n",
      "   - It is wearing a harness with a colorful pattern, and its leash lies on the sand nearby.\n",
      "   - The dog is looking at the woman and has its paw gently held by her, indicating trust and affection.\n",
      "\n",
      "### **Interaction:**\n",
      "- The woman and the dog are sharing a gentle moment of connection. The woman is holding the dog's paw, and both appear relaxed and happy, suggesting a bond between them.\n",
      "\n",
      "### **Background:**\n",
      "- The ocean is visible in the background, with gentle waves rolling onto the shore.\n",
      "- The sky is clear, with the golden hues of the setting or rising sun casting a warm light over the entire scene.\n",
      "\n",
      "### **Overall Mood:**\n",
      "- The image conveys a sense of tranquility, love, and companionship between the woman and her dog. The natural beauty of the beach and the warm lighting enhance the peaceful and affectionate atmosphere.\n",
      "\n",
      "This is a touching and visually appealing scene that highlights the bond between humans and their pets.\n",
      "CPU times: user 2.78 ms, sys: 11.3 ms, total: 14.1 ms\n",
      "Wall time: 25.1 s\n"
     ]
    }
   ],
   "source": [
    "%%time\n",
    "\n",
    "# https://github.com/sgl-project/sglang/blob/v0.4.4.post3/python/sglang/srt/conversation.py#L499\n",
    "messages = [\n",
    "    {\n",
    "        \"role\": \"user\",\n",
    "        \"content\": [\n",
    "            {\n",
    "                \"type\": \"image_url\",\n",
    "                \"image_url\": {\n",
    "                    \"url\": \"https://qianwen-res.oss-cn-beijing.aliyuncs.com/Qwen-VL/assets/demo.jpeg\"\n",
    "                },\n",
    "            },\n",
    "            {\"type\": \"text\", \"text\": \"Describe this image.\"},\n",
    "        ],\n",
    "    }\n",
    "]\n",
    "\n",
    "response = predictor.predict({\n",
    "    'model': 'default',\n",
    "    'messages': messages,\n",
    "    'temperature': 0.6,\n",
    "    'max_new_tokens': 128,\n",
    "    'do_sample': True,\n",
    "    'top_p': 0.95,\n",
    "})\n",
    "\n",
    "print(response['choices'][0]['message']['content'])"
   ]
  },
  {
   "cell_type": "code",
   "execution_count": null,
   "id": "078e0b93-227d-4bc3-a543-6bc0b70eae3d",
   "metadata": {},
   "outputs": [],
   "source": [
    "import base64\n",
    "\n",
    "def encode_image_to_base64(image_path):\n",
    "    with open(image_path, \"rb\") as image_file:\n",
    "        encoded_image = base64.b64encode(image_file.read())\n",
    "        return f\"data:image;base64,{encoded_image.decode('utf-8')}\""
   ]
  },
  {
   "cell_type": "code",
   "execution_count": null,
   "id": "d78af000-795d-4b46-83e1-a997aaa1260e",
   "metadata": {},
   "outputs": [
    {
     "name": "stdout",
     "output_type": "stream",
     "text": [
      "개봉선\n",
      "자스 렌즈 와이프 렌즈 표면의 먼지와 얼룩을\n",
      "흔적 없이 부드럽게 닦아주는 일회용 티슈.\n",
      "\n",
      "안전기준 안전확인대상생활화학제품\n",
      "확인 표시사항\n",
      "\n",
      "신고번호: 제 FB21-02-0531호\n",
      "품목: 제거제\n",
      "품목: 제거제\n",
      "제품명: 자스제 렌즈 와이프\n",
      "주요물질: 정제수, 2-프로판올\n",
      "제조연월: 제품 하단 LOT 번호 앞 네 자리 참조\n",
      "제조자, 제조국: 프로스벤아이엔씨(Prosben, Inc.), 중국\n",
      "수입자, 주소, 연락처: 칼마이즈비진코리아,\n",
      "서울시 송파구 법원로 135, 1201호(02-2252-1001)\n",
      "www.2ass.com/cleaning\n",
      "Produced in China\n",
      "1017-05-15-04\n",
      "\n",
      "CPU times: user 1.66 ms, sys: 3.68 ms, total: 5.34 ms\n",
      "Wall time: 11.5 s\n"
     ]
    }
   ],
   "source": [
    "%%time\n",
    "\n",
    "base64_image = encode_image_to_base64(\"./samples/image1.png\")\n",
    "\n",
    "# https://github.com/sgl-project/sglang/blob/v0.4.4.post3/python/sglang/srt/conversation.py#L499\n",
    "messages = [\n",
    "    {\n",
    "        \"role\": \"user\",\n",
    "        \"content\": [\n",
    "            {\n",
    "                \"type\": \"image_url\",\n",
    "                \"image_url\": {\n",
    "                    \"url\": base64_image\n",
    "                },\n",
    "            },\n",
    "            {\"type\": \"text\", \"text\": \"Extract all text from the image and separate each line or text segment with a newline character.\"},\n",
    "        ],\n",
    "    }\n",
    "]\n",
    "\n",
    "response = predictor.predict({\n",
    "    'model': 'default',\n",
    "    'messages': messages,\n",
    "    'temperature': 0.6,\n",
    "    'max_new_tokens': 128,\n",
    "    'do_sample': True,\n",
    "    'top_p': 0.95,\n",
    "})\n",
    "\n",
    "print(response['choices'][0]['message']['content'])"
   ]
  },
  {
   "cell_type": "markdown",
   "id": "f3e053a2-2b8f-49e5-a264-94ef0de57646",
   "metadata": {},
   "source": [
    "### Invoke endpoint with boto3\n",
    "\n",
    "Note that you can also invoke the endpoint with boto3. If you have an existing endpoint, you don't need to recreate the predictor and can follow below example to invoke the endpoint with an endpoint name."
   ]
  },
  {
   "cell_type": "code",
   "execution_count": null,
   "id": "394f00dc-e2ff-4cbb-b144-2843332e3cd7",
   "metadata": {},
   "outputs": [],
   "source": [
    "import boto3\n",
    "import json\n",
    "\n",
    "sagemaker_runtime = boto3.client('sagemaker-runtime', region_name=region)\n",
    "endpoint_name = predictor.endpoint_name # you can manually set the endpoint name with an existing endpoint"
   ]
  },
  {
   "cell_type": "code",
   "execution_count": null,
   "id": "bb823b60-709b-46f5-a1bb-64c0fb67ef30",
   "metadata": {},
   "outputs": [
    {
     "name": "stdout",
     "output_type": "stream",
     "text": [
      "The image shows a warm and heartwarming scene of a woman interacting affectionately with a dog on a sandy beach during what appears to be sunset. Here's a detailed description:\n",
      "\n",
      "1. **Setting**:\n",
      "   - The scene takes place on a beach, with sand visible in the foreground and the ocean in the background.\n",
      "   - The sun is low on the horizon, casting a soft, golden glow across the scene, creating a serene and romantic atmosphere.\n",
      "\n",
      "2. **People and Animals**:\n",
      "   - A woman is sitting on the sand, facing the dog. She has long, dark hair and is wearing a plaid shirt and rolled-up jeans, suggesting a casual and relaxed outfit.\n",
      "   - The dog, likely a Labrador Retriever, is light-colored (possibly cream or yellow). It is wearing a harness with a colorful pattern and a leash.\n",
      "   - The woman and the dog are engaging in a playful or affectionate gesture, with the dog extending its paw toward the woman's hand, as if they are \"shaking hands\" or giving a high-five.\n",
      "\n",
      "3. **Mood and Interaction**:\n",
      "   - The woman is smiling and appears happy, indicating a positive and joyful interaction.\n",
      "   - The dog looks calm and engaged, contributing to the overall sense of harmony and companionship.\n",
      "   - The interaction between the woman and the dog conveys a strong bond and mutual affection.\n",
      "\n",
      "4. **Background**:\n",
      "   - The ocean in the background has gentle waves, adding to the peaceful and natural setting.\n",
      "   - The lighting from the setting sun creates long shadows and a warm, golden hue, enhancing the emotional tone of the image.\n",
      "\n",
      "Overall, the image captures a moment of connection and joy between a person and their pet, set against the backdrop of a beautiful beach at sunset. The scene exudes warmth, love, and tranquility.\n",
      "CPU times: user 8.69 ms, sys: 4.14 ms, total: 12.8 ms\n",
      "Wall time: 23.2 s\n"
     ]
    }
   ],
   "source": [
    "%%time\n",
    "\n",
    "# https://github.com/sgl-project/sglang/blob/v0.4.4.post3/python/sglang/srt/conversation.py#L499\n",
    "messages = [\n",
    "    {\n",
    "        \"role\": \"user\",\n",
    "        \"content\": [\n",
    "            {\n",
    "                \"type\": \"image_url\",\n",
    "                \"image_url\": {\n",
    "                    \"url\": \"https://qianwen-res.oss-cn-beijing.aliyuncs.com/Qwen-VL/assets/demo.jpeg\"\n",
    "                },\n",
    "            },\n",
    "            {\"type\": \"text\", \"text\": \"Describe this image.\"},\n",
    "        ],\n",
    "    }\n",
    "]\n",
    "\n",
    "prompt = {\n",
    "    'model': 'default',\n",
    "    'messages': messages,\n",
    "    'temperature': 0.6,\n",
    "    'max_new_tokens': 128,\n",
    "    'do_sample': True,\n",
    "    'top_p': 0.95\n",
    "}\n",
    "\n",
    "response = sagemaker_runtime.invoke_endpoint(\n",
    "    EndpointName=endpoint_name,\n",
    "    ContentType=\"application/json\",\n",
    "    Body=json.dumps(prompt)\n",
    ")\n",
    "\n",
    "response_dict = json.loads(response['Body'].read().decode(\"utf-8\"))\n",
    "response_content = response_dict['choices'][0]['message']['content']\n",
    "print(response_content)"
   ]
  },
  {
   "cell_type": "code",
   "execution_count": null,
   "id": "c65c2980-0c10-4cb9-b8d7-3a6fa5eb4f88",
   "metadata": {},
   "outputs": [
    {
     "name": "stdout",
     "output_type": "stream",
     "text": [
      "개봉선\n",
      "자스 렌즈 와이프 렌즈 표면의 먼지와 얼룩을\n",
      "흔적 없이 부드럽게 닦아주는 일회용 티슈.\n",
      "안전기준\n",
      "안전확인대상생활화학제품\n",
      "표시사항\n",
      "신고번호: 제 FB21-02-0531호\n",
      "품목: 제거제\n",
      "품목: 제거제\n",
      "제품명: 자스제 렌즈 와이프\n",
      "주요물질: 정제수, 2-프로판올\n",
      "제조연월: 제품 하단 LOT 번호 앞 네 자리 참조\n",
      "제조자, 제조국: 프로스벤아이앤씨(Prosben, Inc), 중국\n",
      "수입자, 주소, 연락처: 칼마이즈비전코리아,\n",
      "서울시 송파구 법원로 135, 1201호(02-252-1001)\n",
      "Produced in China\n",
      "www.2ass.com/cleaning\n",
      "101-65-25-04\n",
      "\n",
      "CPU times: user 4.74 ms, sys: 777 μs, total: 5.51 ms\n",
      "Wall time: 11.3 s\n"
     ]
    }
   ],
   "source": [
    "%%time\n",
    "\n",
    "base64_image = encode_image_to_base64(\"./samples/image1.png\")\n",
    "\n",
    "# https://github.com/sgl-project/sglang/blob/v0.4.4.post3/python/sglang/srt/conversation.py#L499\n",
    "messages = [\n",
    "    {\n",
    "        \"role\": \"user\",\n",
    "        \"content\": [\n",
    "            {\n",
    "                \"type\": \"image_url\",\n",
    "                \"image_url\": {\n",
    "                    \"url\": base64_image\n",
    "                },\n",
    "            },\n",
    "            {\"type\": \"text\", \"text\": \"Extract all text from the image and separate each line or text segment with a newline character.\"},\n",
    "        ],\n",
    "    }\n",
    "]\n",
    "\n",
    "prompt = {\n",
    "    'model': 'default',\n",
    "    'messages': messages,\n",
    "    'temperature': 0.6,\n",
    "    'max_new_tokens': 128,\n",
    "    'do_sample': True,\n",
    "    'top_p': 0.95\n",
    "}\n",
    "\n",
    "response = sagemaker_runtime.invoke_endpoint(\n",
    "    EndpointName=endpoint_name,\n",
    "    ContentType=\"application/json\",\n",
    "    Body=json.dumps(prompt)\n",
    ")\n",
    "\n",
    "response_dict = json.loads(response['Body'].read().decode(\"utf-8\"))\n",
    "response_content = response_dict['choices'][0]['message']['content']\n",
    "print(response_content)"
   ]
  },
  {
   "cell_type": "markdown",
   "id": "a406aaeb-592e-47fa-849c-c268e95acd40",
   "metadata": {},
   "source": [
    "### Clean up the environment\n",
    "\n",
    "Make sure to delete the endpoint and other artifacts that were created to avoid unnecessary cost. You can also go to SageMaker AI console to delete all the resources created in this example."
   ]
  },
  {
   "cell_type": "code",
   "execution_count": null,
   "id": "bb9da8c8-0184-4946-b942-b561d5cee2b6",
   "metadata": {},
   "outputs": [],
   "source": [
    "predictor.delete_model()\n",
    "predictor.delete_endpoint()"
   ]
  },
  {
   "cell_type": "markdown",
   "id": "2bacac8b-e78b-4501-811a-f049e98f0a1b",
   "metadata": {},
   "source": [
    "### References\n",
    "\n",
    "- [Qwen2.5-VL-32B-Instruct Model Card](https://huggingface.co/Qwen/Qwen2.5-VL-32B-Instruct)\n",
    "- [SGLang Documentation](https://docs.sglang.ai/index.html) - a fast serving framework for large language models and vision language models\n",
    "- [sagemaker-genai-hosting-examples/Deepseek/SGLang-Deepseek/deepseek-r1-llama-70b-sglang.ipynb](https://github.com/aws-samples/sagemaker-genai-hosting-examples/blob/main/Deepseek/SGLang-Deepseek/deepseek-r1-llama-70b-sglang.ipynb)"
   ]
  }
 ],
 "metadata": {
  "kernelspec": {
   "display_name": "Python 3 (ipykernel)",
   "language": "python",
   "name": "python3"
  },
  "language_info": {
   "codemirror_mode": {
    "name": "ipython",
    "version": 3
   },
   "file_extension": ".py",
   "mimetype": "text/x-python",
   "name": "python",
   "nbconvert_exporter": "python",
   "pygments_lexer": "ipython3",
   "version": "3.11.10"
  }
 },
 "nbformat": 4,
 "nbformat_minor": 5
}
